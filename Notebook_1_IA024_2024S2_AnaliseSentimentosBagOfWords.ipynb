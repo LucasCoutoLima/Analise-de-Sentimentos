{
  "nbformat": 4,
  "nbformat_minor": 0,
  "metadata": {
    "colab": {
      "provenance": [],
      "gpuType": "T4"
    },
    "kernelspec": {
      "name": "python3",
      "display_name": "Python 3"
    },
    "language_info": {
      "name": "python"
    },
    "widgets": {
      "application/vnd.jupyter.widget-state+json": {
        "47a63660caab4d1291e431019348e8ef": {
          "model_module": "@jupyter-widgets/controls",
          "model_name": "HBoxModel",
          "model_module_version": "1.5.0",
          "state": {
            "_dom_classes": [],
            "_model_module": "@jupyter-widgets/controls",
            "_model_module_version": "1.5.0",
            "_model_name": "HBoxModel",
            "_view_count": null,
            "_view_module": "@jupyter-widgets/controls",
            "_view_module_version": "1.5.0",
            "_view_name": "HBoxView",
            "box_style": "",
            "children": [
              "IPY_MODEL_af9e327df5974210971b5b7c85b9c6c7",
              "IPY_MODEL_968c868553d245a587cbad6c8d5b57d0",
              "IPY_MODEL_5d0e61c4209c401eb2c412b3849125a0"
            ],
            "layout": "IPY_MODEL_5cda64f4439e4084873e9bf4df4ada2b"
          }
        },
        "af9e327df5974210971b5b7c85b9c6c7": {
          "model_module": "@jupyter-widgets/controls",
          "model_name": "HTMLModel",
          "model_module_version": "1.5.0",
          "state": {
            "_dom_classes": [],
            "_model_module": "@jupyter-widgets/controls",
            "_model_module_version": "1.5.0",
            "_model_name": "HTMLModel",
            "_view_count": null,
            "_view_module": "@jupyter-widgets/controls",
            "_view_module_version": "1.5.0",
            "_view_name": "HTMLView",
            "description": "",
            "description_tooltip": null,
            "layout": "IPY_MODEL_44689cc1a22b43a093d2fb4b4c815e5b",
            "placeholder": "​",
            "style": "IPY_MODEL_3a35de6ad666435a93aa4fcdcab36364",
            "value": "Downloading readme: 100%"
          }
        },
        "968c868553d245a587cbad6c8d5b57d0": {
          "model_module": "@jupyter-widgets/controls",
          "model_name": "FloatProgressModel",
          "model_module_version": "1.5.0",
          "state": {
            "_dom_classes": [],
            "_model_module": "@jupyter-widgets/controls",
            "_model_module_version": "1.5.0",
            "_model_name": "FloatProgressModel",
            "_view_count": null,
            "_view_module": "@jupyter-widgets/controls",
            "_view_module_version": "1.5.0",
            "_view_name": "ProgressView",
            "bar_style": "success",
            "description": "",
            "description_tooltip": null,
            "layout": "IPY_MODEL_3a492db58633401cbc963ae9aad3f014",
            "max": 7809,
            "min": 0,
            "orientation": "horizontal",
            "style": "IPY_MODEL_e795617aa7954bc19860824c1fffc18c",
            "value": 7809
          }
        },
        "5d0e61c4209c401eb2c412b3849125a0": {
          "model_module": "@jupyter-widgets/controls",
          "model_name": "HTMLModel",
          "model_module_version": "1.5.0",
          "state": {
            "_dom_classes": [],
            "_model_module": "@jupyter-widgets/controls",
            "_model_module_version": "1.5.0",
            "_model_name": "HTMLModel",
            "_view_count": null,
            "_view_module": "@jupyter-widgets/controls",
            "_view_module_version": "1.5.0",
            "_view_name": "HTMLView",
            "description": "",
            "description_tooltip": null,
            "layout": "IPY_MODEL_ea51bbcc37be4baaaaa5c09b7dd8cd8c",
            "placeholder": "​",
            "style": "IPY_MODEL_63754f571c834e148f1a06cc5e8400b4",
            "value": " 7.81k/7.81k [00:00&lt;00:00, 147kB/s]"
          }
        },
        "5cda64f4439e4084873e9bf4df4ada2b": {
          "model_module": "@jupyter-widgets/base",
          "model_name": "LayoutModel",
          "model_module_version": "1.2.0",
          "state": {
            "_model_module": "@jupyter-widgets/base",
            "_model_module_version": "1.2.0",
            "_model_name": "LayoutModel",
            "_view_count": null,
            "_view_module": "@jupyter-widgets/base",
            "_view_module_version": "1.2.0",
            "_view_name": "LayoutView",
            "align_content": null,
            "align_items": null,
            "align_self": null,
            "border": null,
            "bottom": null,
            "display": null,
            "flex": null,
            "flex_flow": null,
            "grid_area": null,
            "grid_auto_columns": null,
            "grid_auto_flow": null,
            "grid_auto_rows": null,
            "grid_column": null,
            "grid_gap": null,
            "grid_row": null,
            "grid_template_areas": null,
            "grid_template_columns": null,
            "grid_template_rows": null,
            "height": null,
            "justify_content": null,
            "justify_items": null,
            "left": null,
            "margin": null,
            "max_height": null,
            "max_width": null,
            "min_height": null,
            "min_width": null,
            "object_fit": null,
            "object_position": null,
            "order": null,
            "overflow": null,
            "overflow_x": null,
            "overflow_y": null,
            "padding": null,
            "right": null,
            "top": null,
            "visibility": null,
            "width": null
          }
        },
        "44689cc1a22b43a093d2fb4b4c815e5b": {
          "model_module": "@jupyter-widgets/base",
          "model_name": "LayoutModel",
          "model_module_version": "1.2.0",
          "state": {
            "_model_module": "@jupyter-widgets/base",
            "_model_module_version": "1.2.0",
            "_model_name": "LayoutModel",
            "_view_count": null,
            "_view_module": "@jupyter-widgets/base",
            "_view_module_version": "1.2.0",
            "_view_name": "LayoutView",
            "align_content": null,
            "align_items": null,
            "align_self": null,
            "border": null,
            "bottom": null,
            "display": null,
            "flex": null,
            "flex_flow": null,
            "grid_area": null,
            "grid_auto_columns": null,
            "grid_auto_flow": null,
            "grid_auto_rows": null,
            "grid_column": null,
            "grid_gap": null,
            "grid_row": null,
            "grid_template_areas": null,
            "grid_template_columns": null,
            "grid_template_rows": null,
            "height": null,
            "justify_content": null,
            "justify_items": null,
            "left": null,
            "margin": null,
            "max_height": null,
            "max_width": null,
            "min_height": null,
            "min_width": null,
            "object_fit": null,
            "object_position": null,
            "order": null,
            "overflow": null,
            "overflow_x": null,
            "overflow_y": null,
            "padding": null,
            "right": null,
            "top": null,
            "visibility": null,
            "width": null
          }
        },
        "3a35de6ad666435a93aa4fcdcab36364": {
          "model_module": "@jupyter-widgets/controls",
          "model_name": "DescriptionStyleModel",
          "model_module_version": "1.5.0",
          "state": {
            "_model_module": "@jupyter-widgets/controls",
            "_model_module_version": "1.5.0",
            "_model_name": "DescriptionStyleModel",
            "_view_count": null,
            "_view_module": "@jupyter-widgets/base",
            "_view_module_version": "1.2.0",
            "_view_name": "StyleView",
            "description_width": ""
          }
        },
        "3a492db58633401cbc963ae9aad3f014": {
          "model_module": "@jupyter-widgets/base",
          "model_name": "LayoutModel",
          "model_module_version": "1.2.0",
          "state": {
            "_model_module": "@jupyter-widgets/base",
            "_model_module_version": "1.2.0",
            "_model_name": "LayoutModel",
            "_view_count": null,
            "_view_module": "@jupyter-widgets/base",
            "_view_module_version": "1.2.0",
            "_view_name": "LayoutView",
            "align_content": null,
            "align_items": null,
            "align_self": null,
            "border": null,
            "bottom": null,
            "display": null,
            "flex": null,
            "flex_flow": null,
            "grid_area": null,
            "grid_auto_columns": null,
            "grid_auto_flow": null,
            "grid_auto_rows": null,
            "grid_column": null,
            "grid_gap": null,
            "grid_row": null,
            "grid_template_areas": null,
            "grid_template_columns": null,
            "grid_template_rows": null,
            "height": null,
            "justify_content": null,
            "justify_items": null,
            "left": null,
            "margin": null,
            "max_height": null,
            "max_width": null,
            "min_height": null,
            "min_width": null,
            "object_fit": null,
            "object_position": null,
            "order": null,
            "overflow": null,
            "overflow_x": null,
            "overflow_y": null,
            "padding": null,
            "right": null,
            "top": null,
            "visibility": null,
            "width": null
          }
        },
        "e795617aa7954bc19860824c1fffc18c": {
          "model_module": "@jupyter-widgets/controls",
          "model_name": "ProgressStyleModel",
          "model_module_version": "1.5.0",
          "state": {
            "_model_module": "@jupyter-widgets/controls",
            "_model_module_version": "1.5.0",
            "_model_name": "ProgressStyleModel",
            "_view_count": null,
            "_view_module": "@jupyter-widgets/base",
            "_view_module_version": "1.2.0",
            "_view_name": "StyleView",
            "bar_color": null,
            "description_width": ""
          }
        },
        "ea51bbcc37be4baaaaa5c09b7dd8cd8c": {
          "model_module": "@jupyter-widgets/base",
          "model_name": "LayoutModel",
          "model_module_version": "1.2.0",
          "state": {
            "_model_module": "@jupyter-widgets/base",
            "_model_module_version": "1.2.0",
            "_model_name": "LayoutModel",
            "_view_count": null,
            "_view_module": "@jupyter-widgets/base",
            "_view_module_version": "1.2.0",
            "_view_name": "LayoutView",
            "align_content": null,
            "align_items": null,
            "align_self": null,
            "border": null,
            "bottom": null,
            "display": null,
            "flex": null,
            "flex_flow": null,
            "grid_area": null,
            "grid_auto_columns": null,
            "grid_auto_flow": null,
            "grid_auto_rows": null,
            "grid_column": null,
            "grid_gap": null,
            "grid_row": null,
            "grid_template_areas": null,
            "grid_template_columns": null,
            "grid_template_rows": null,
            "height": null,
            "justify_content": null,
            "justify_items": null,
            "left": null,
            "margin": null,
            "max_height": null,
            "max_width": null,
            "min_height": null,
            "min_width": null,
            "object_fit": null,
            "object_position": null,
            "order": null,
            "overflow": null,
            "overflow_x": null,
            "overflow_y": null,
            "padding": null,
            "right": null,
            "top": null,
            "visibility": null,
            "width": null
          }
        },
        "63754f571c834e148f1a06cc5e8400b4": {
          "model_module": "@jupyter-widgets/controls",
          "model_name": "DescriptionStyleModel",
          "model_module_version": "1.5.0",
          "state": {
            "_model_module": "@jupyter-widgets/controls",
            "_model_module_version": "1.5.0",
            "_model_name": "DescriptionStyleModel",
            "_view_count": null,
            "_view_module": "@jupyter-widgets/base",
            "_view_module_version": "1.2.0",
            "_view_name": "StyleView",
            "description_width": ""
          }
        },
        "28ddd03776ba4581b01b7fb2c31bf443": {
          "model_module": "@jupyter-widgets/controls",
          "model_name": "HBoxModel",
          "model_module_version": "1.5.0",
          "state": {
            "_dom_classes": [],
            "_model_module": "@jupyter-widgets/controls",
            "_model_module_version": "1.5.0",
            "_model_name": "HBoxModel",
            "_view_count": null,
            "_view_module": "@jupyter-widgets/controls",
            "_view_module_version": "1.5.0",
            "_view_name": "HBoxView",
            "box_style": "",
            "children": [
              "IPY_MODEL_c5a5117771114c91aa9c437a95e691ef",
              "IPY_MODEL_143984a827c34f19bc31ffd9db87cba7",
              "IPY_MODEL_5a09ae10a58844ccbd6c55662ba167cd"
            ],
            "layout": "IPY_MODEL_49a76f3d6b71415ea643b5c9d68e5e69"
          }
        },
        "c5a5117771114c91aa9c437a95e691ef": {
          "model_module": "@jupyter-widgets/controls",
          "model_name": "HTMLModel",
          "model_module_version": "1.5.0",
          "state": {
            "_dom_classes": [],
            "_model_module": "@jupyter-widgets/controls",
            "_model_module_version": "1.5.0",
            "_model_name": "HTMLModel",
            "_view_count": null,
            "_view_module": "@jupyter-widgets/controls",
            "_view_module_version": "1.5.0",
            "_view_name": "HTMLView",
            "description": "",
            "description_tooltip": null,
            "layout": "IPY_MODEL_2ce88ba0d96146d3b21c04e0ae954756",
            "placeholder": "​",
            "style": "IPY_MODEL_e143a81c7bea42e19f4c426e36b57a94",
            "value": "Downloading data: 100%"
          }
        },
        "143984a827c34f19bc31ffd9db87cba7": {
          "model_module": "@jupyter-widgets/controls",
          "model_name": "FloatProgressModel",
          "model_module_version": "1.5.0",
          "state": {
            "_dom_classes": [],
            "_model_module": "@jupyter-widgets/controls",
            "_model_module_version": "1.5.0",
            "_model_name": "FloatProgressModel",
            "_view_count": null,
            "_view_module": "@jupyter-widgets/controls",
            "_view_module_version": "1.5.0",
            "_view_name": "ProgressView",
            "bar_style": "success",
            "description": "",
            "description_tooltip": null,
            "layout": "IPY_MODEL_60cea46f635148cc8ea014168b80387a",
            "max": 20979968,
            "min": 0,
            "orientation": "horizontal",
            "style": "IPY_MODEL_121eaf100c60498f98762783b8852270",
            "value": 20979968
          }
        },
        "5a09ae10a58844ccbd6c55662ba167cd": {
          "model_module": "@jupyter-widgets/controls",
          "model_name": "HTMLModel",
          "model_module_version": "1.5.0",
          "state": {
            "_dom_classes": [],
            "_model_module": "@jupyter-widgets/controls",
            "_model_module_version": "1.5.0",
            "_model_name": "HTMLModel",
            "_view_count": null,
            "_view_module": "@jupyter-widgets/controls",
            "_view_module_version": "1.5.0",
            "_view_name": "HTMLView",
            "description": "",
            "description_tooltip": null,
            "layout": "IPY_MODEL_245f479735524e0d837c89c577e73f91",
            "placeholder": "​",
            "style": "IPY_MODEL_9d90c8b638974cee8829dd68e00f8165",
            "value": " 21.0M/21.0M [00:00&lt;00:00, 45.5MB/s]"
          }
        },
        "49a76f3d6b71415ea643b5c9d68e5e69": {
          "model_module": "@jupyter-widgets/base",
          "model_name": "LayoutModel",
          "model_module_version": "1.2.0",
          "state": {
            "_model_module": "@jupyter-widgets/base",
            "_model_module_version": "1.2.0",
            "_model_name": "LayoutModel",
            "_view_count": null,
            "_view_module": "@jupyter-widgets/base",
            "_view_module_version": "1.2.0",
            "_view_name": "LayoutView",
            "align_content": null,
            "align_items": null,
            "align_self": null,
            "border": null,
            "bottom": null,
            "display": null,
            "flex": null,
            "flex_flow": null,
            "grid_area": null,
            "grid_auto_columns": null,
            "grid_auto_flow": null,
            "grid_auto_rows": null,
            "grid_column": null,
            "grid_gap": null,
            "grid_row": null,
            "grid_template_areas": null,
            "grid_template_columns": null,
            "grid_template_rows": null,
            "height": null,
            "justify_content": null,
            "justify_items": null,
            "left": null,
            "margin": null,
            "max_height": null,
            "max_width": null,
            "min_height": null,
            "min_width": null,
            "object_fit": null,
            "object_position": null,
            "order": null,
            "overflow": null,
            "overflow_x": null,
            "overflow_y": null,
            "padding": null,
            "right": null,
            "top": null,
            "visibility": null,
            "width": null
          }
        },
        "2ce88ba0d96146d3b21c04e0ae954756": {
          "model_module": "@jupyter-widgets/base",
          "model_name": "LayoutModel",
          "model_module_version": "1.2.0",
          "state": {
            "_model_module": "@jupyter-widgets/base",
            "_model_module_version": "1.2.0",
            "_model_name": "LayoutModel",
            "_view_count": null,
            "_view_module": "@jupyter-widgets/base",
            "_view_module_version": "1.2.0",
            "_view_name": "LayoutView",
            "align_content": null,
            "align_items": null,
            "align_self": null,
            "border": null,
            "bottom": null,
            "display": null,
            "flex": null,
            "flex_flow": null,
            "grid_area": null,
            "grid_auto_columns": null,
            "grid_auto_flow": null,
            "grid_auto_rows": null,
            "grid_column": null,
            "grid_gap": null,
            "grid_row": null,
            "grid_template_areas": null,
            "grid_template_columns": null,
            "grid_template_rows": null,
            "height": null,
            "justify_content": null,
            "justify_items": null,
            "left": null,
            "margin": null,
            "max_height": null,
            "max_width": null,
            "min_height": null,
            "min_width": null,
            "object_fit": null,
            "object_position": null,
            "order": null,
            "overflow": null,
            "overflow_x": null,
            "overflow_y": null,
            "padding": null,
            "right": null,
            "top": null,
            "visibility": null,
            "width": null
          }
        },
        "e143a81c7bea42e19f4c426e36b57a94": {
          "model_module": "@jupyter-widgets/controls",
          "model_name": "DescriptionStyleModel",
          "model_module_version": "1.5.0",
          "state": {
            "_model_module": "@jupyter-widgets/controls",
            "_model_module_version": "1.5.0",
            "_model_name": "DescriptionStyleModel",
            "_view_count": null,
            "_view_module": "@jupyter-widgets/base",
            "_view_module_version": "1.2.0",
            "_view_name": "StyleView",
            "description_width": ""
          }
        },
        "60cea46f635148cc8ea014168b80387a": {
          "model_module": "@jupyter-widgets/base",
          "model_name": "LayoutModel",
          "model_module_version": "1.2.0",
          "state": {
            "_model_module": "@jupyter-widgets/base",
            "_model_module_version": "1.2.0",
            "_model_name": "LayoutModel",
            "_view_count": null,
            "_view_module": "@jupyter-widgets/base",
            "_view_module_version": "1.2.0",
            "_view_name": "LayoutView",
            "align_content": null,
            "align_items": null,
            "align_self": null,
            "border": null,
            "bottom": null,
            "display": null,
            "flex": null,
            "flex_flow": null,
            "grid_area": null,
            "grid_auto_columns": null,
            "grid_auto_flow": null,
            "grid_auto_rows": null,
            "grid_column": null,
            "grid_gap": null,
            "grid_row": null,
            "grid_template_areas": null,
            "grid_template_columns": null,
            "grid_template_rows": null,
            "height": null,
            "justify_content": null,
            "justify_items": null,
            "left": null,
            "margin": null,
            "max_height": null,
            "max_width": null,
            "min_height": null,
            "min_width": null,
            "object_fit": null,
            "object_position": null,
            "order": null,
            "overflow": null,
            "overflow_x": null,
            "overflow_y": null,
            "padding": null,
            "right": null,
            "top": null,
            "visibility": null,
            "width": null
          }
        },
        "121eaf100c60498f98762783b8852270": {
          "model_module": "@jupyter-widgets/controls",
          "model_name": "ProgressStyleModel",
          "model_module_version": "1.5.0",
          "state": {
            "_model_module": "@jupyter-widgets/controls",
            "_model_module_version": "1.5.0",
            "_model_name": "ProgressStyleModel",
            "_view_count": null,
            "_view_module": "@jupyter-widgets/base",
            "_view_module_version": "1.2.0",
            "_view_name": "StyleView",
            "bar_color": null,
            "description_width": ""
          }
        },
        "245f479735524e0d837c89c577e73f91": {
          "model_module": "@jupyter-widgets/base",
          "model_name": "LayoutModel",
          "model_module_version": "1.2.0",
          "state": {
            "_model_module": "@jupyter-widgets/base",
            "_model_module_version": "1.2.0",
            "_model_name": "LayoutModel",
            "_view_count": null,
            "_view_module": "@jupyter-widgets/base",
            "_view_module_version": "1.2.0",
            "_view_name": "LayoutView",
            "align_content": null,
            "align_items": null,
            "align_self": null,
            "border": null,
            "bottom": null,
            "display": null,
            "flex": null,
            "flex_flow": null,
            "grid_area": null,
            "grid_auto_columns": null,
            "grid_auto_flow": null,
            "grid_auto_rows": null,
            "grid_column": null,
            "grid_gap": null,
            "grid_row": null,
            "grid_template_areas": null,
            "grid_template_columns": null,
            "grid_template_rows": null,
            "height": null,
            "justify_content": null,
            "justify_items": null,
            "left": null,
            "margin": null,
            "max_height": null,
            "max_width": null,
            "min_height": null,
            "min_width": null,
            "object_fit": null,
            "object_position": null,
            "order": null,
            "overflow": null,
            "overflow_x": null,
            "overflow_y": null,
            "padding": null,
            "right": null,
            "top": null,
            "visibility": null,
            "width": null
          }
        },
        "9d90c8b638974cee8829dd68e00f8165": {
          "model_module": "@jupyter-widgets/controls",
          "model_name": "DescriptionStyleModel",
          "model_module_version": "1.5.0",
          "state": {
            "_model_module": "@jupyter-widgets/controls",
            "_model_module_version": "1.5.0",
            "_model_name": "DescriptionStyleModel",
            "_view_count": null,
            "_view_module": "@jupyter-widgets/base",
            "_view_module_version": "1.2.0",
            "_view_name": "StyleView",
            "description_width": ""
          }
        },
        "3da23bd6b9a043d9a96c0f3b6fd64082": {
          "model_module": "@jupyter-widgets/controls",
          "model_name": "HBoxModel",
          "model_module_version": "1.5.0",
          "state": {
            "_dom_classes": [],
            "_model_module": "@jupyter-widgets/controls",
            "_model_module_version": "1.5.0",
            "_model_name": "HBoxModel",
            "_view_count": null,
            "_view_module": "@jupyter-widgets/controls",
            "_view_module_version": "1.5.0",
            "_view_name": "HBoxView",
            "box_style": "",
            "children": [
              "IPY_MODEL_6ef84d9dc34e473ebb1d5acdca96eec2",
              "IPY_MODEL_42819018c3174392b997e22ac0e125b1",
              "IPY_MODEL_edc295ffd95245428677dc87fffd870b"
            ],
            "layout": "IPY_MODEL_23b7d8afc9d34627bb3a52dcc87a4dd5"
          }
        },
        "6ef84d9dc34e473ebb1d5acdca96eec2": {
          "model_module": "@jupyter-widgets/controls",
          "model_name": "HTMLModel",
          "model_module_version": "1.5.0",
          "state": {
            "_dom_classes": [],
            "_model_module": "@jupyter-widgets/controls",
            "_model_module_version": "1.5.0",
            "_model_name": "HTMLModel",
            "_view_count": null,
            "_view_module": "@jupyter-widgets/controls",
            "_view_module_version": "1.5.0",
            "_view_name": "HTMLView",
            "description": "",
            "description_tooltip": null,
            "layout": "IPY_MODEL_c736016346ed4c479a8219f54ee6c97d",
            "placeholder": "​",
            "style": "IPY_MODEL_8ec45e25e5424906be92298be77283ec",
            "value": "Downloading data: 100%"
          }
        },
        "42819018c3174392b997e22ac0e125b1": {
          "model_module": "@jupyter-widgets/controls",
          "model_name": "FloatProgressModel",
          "model_module_version": "1.5.0",
          "state": {
            "_dom_classes": [],
            "_model_module": "@jupyter-widgets/controls",
            "_model_module_version": "1.5.0",
            "_model_name": "FloatProgressModel",
            "_view_count": null,
            "_view_module": "@jupyter-widgets/controls",
            "_view_module_version": "1.5.0",
            "_view_name": "ProgressView",
            "bar_style": "success",
            "description": "",
            "description_tooltip": null,
            "layout": "IPY_MODEL_5496664340084807b7347663806f5b9b",
            "max": 20470363,
            "min": 0,
            "orientation": "horizontal",
            "style": "IPY_MODEL_0adfcc09f3ca497bba2d48d93f55113f",
            "value": 20470363
          }
        },
        "edc295ffd95245428677dc87fffd870b": {
          "model_module": "@jupyter-widgets/controls",
          "model_name": "HTMLModel",
          "model_module_version": "1.5.0",
          "state": {
            "_dom_classes": [],
            "_model_module": "@jupyter-widgets/controls",
            "_model_module_version": "1.5.0",
            "_model_name": "HTMLModel",
            "_view_count": null,
            "_view_module": "@jupyter-widgets/controls",
            "_view_module_version": "1.5.0",
            "_view_name": "HTMLView",
            "description": "",
            "description_tooltip": null,
            "layout": "IPY_MODEL_c04b2feaafda423aae13873a42c7ce6c",
            "placeholder": "​",
            "style": "IPY_MODEL_b6a97959fed84a32b95c662ce7ebbc5d",
            "value": " 20.5M/20.5M [00:00&lt;00:00, 38.2MB/s]"
          }
        },
        "23b7d8afc9d34627bb3a52dcc87a4dd5": {
          "model_module": "@jupyter-widgets/base",
          "model_name": "LayoutModel",
          "model_module_version": "1.2.0",
          "state": {
            "_model_module": "@jupyter-widgets/base",
            "_model_module_version": "1.2.0",
            "_model_name": "LayoutModel",
            "_view_count": null,
            "_view_module": "@jupyter-widgets/base",
            "_view_module_version": "1.2.0",
            "_view_name": "LayoutView",
            "align_content": null,
            "align_items": null,
            "align_self": null,
            "border": null,
            "bottom": null,
            "display": null,
            "flex": null,
            "flex_flow": null,
            "grid_area": null,
            "grid_auto_columns": null,
            "grid_auto_flow": null,
            "grid_auto_rows": null,
            "grid_column": null,
            "grid_gap": null,
            "grid_row": null,
            "grid_template_areas": null,
            "grid_template_columns": null,
            "grid_template_rows": null,
            "height": null,
            "justify_content": null,
            "justify_items": null,
            "left": null,
            "margin": null,
            "max_height": null,
            "max_width": null,
            "min_height": null,
            "min_width": null,
            "object_fit": null,
            "object_position": null,
            "order": null,
            "overflow": null,
            "overflow_x": null,
            "overflow_y": null,
            "padding": null,
            "right": null,
            "top": null,
            "visibility": null,
            "width": null
          }
        },
        "c736016346ed4c479a8219f54ee6c97d": {
          "model_module": "@jupyter-widgets/base",
          "model_name": "LayoutModel",
          "model_module_version": "1.2.0",
          "state": {
            "_model_module": "@jupyter-widgets/base",
            "_model_module_version": "1.2.0",
            "_model_name": "LayoutModel",
            "_view_count": null,
            "_view_module": "@jupyter-widgets/base",
            "_view_module_version": "1.2.0",
            "_view_name": "LayoutView",
            "align_content": null,
            "align_items": null,
            "align_self": null,
            "border": null,
            "bottom": null,
            "display": null,
            "flex": null,
            "flex_flow": null,
            "grid_area": null,
            "grid_auto_columns": null,
            "grid_auto_flow": null,
            "grid_auto_rows": null,
            "grid_column": null,
            "grid_gap": null,
            "grid_row": null,
            "grid_template_areas": null,
            "grid_template_columns": null,
            "grid_template_rows": null,
            "height": null,
            "justify_content": null,
            "justify_items": null,
            "left": null,
            "margin": null,
            "max_height": null,
            "max_width": null,
            "min_height": null,
            "min_width": null,
            "object_fit": null,
            "object_position": null,
            "order": null,
            "overflow": null,
            "overflow_x": null,
            "overflow_y": null,
            "padding": null,
            "right": null,
            "top": null,
            "visibility": null,
            "width": null
          }
        },
        "8ec45e25e5424906be92298be77283ec": {
          "model_module": "@jupyter-widgets/controls",
          "model_name": "DescriptionStyleModel",
          "model_module_version": "1.5.0",
          "state": {
            "_model_module": "@jupyter-widgets/controls",
            "_model_module_version": "1.5.0",
            "_model_name": "DescriptionStyleModel",
            "_view_count": null,
            "_view_module": "@jupyter-widgets/base",
            "_view_module_version": "1.2.0",
            "_view_name": "StyleView",
            "description_width": ""
          }
        },
        "5496664340084807b7347663806f5b9b": {
          "model_module": "@jupyter-widgets/base",
          "model_name": "LayoutModel",
          "model_module_version": "1.2.0",
          "state": {
            "_model_module": "@jupyter-widgets/base",
            "_model_module_version": "1.2.0",
            "_model_name": "LayoutModel",
            "_view_count": null,
            "_view_module": "@jupyter-widgets/base",
            "_view_module_version": "1.2.0",
            "_view_name": "LayoutView",
            "align_content": null,
            "align_items": null,
            "align_self": null,
            "border": null,
            "bottom": null,
            "display": null,
            "flex": null,
            "flex_flow": null,
            "grid_area": null,
            "grid_auto_columns": null,
            "grid_auto_flow": null,
            "grid_auto_rows": null,
            "grid_column": null,
            "grid_gap": null,
            "grid_row": null,
            "grid_template_areas": null,
            "grid_template_columns": null,
            "grid_template_rows": null,
            "height": null,
            "justify_content": null,
            "justify_items": null,
            "left": null,
            "margin": null,
            "max_height": null,
            "max_width": null,
            "min_height": null,
            "min_width": null,
            "object_fit": null,
            "object_position": null,
            "order": null,
            "overflow": null,
            "overflow_x": null,
            "overflow_y": null,
            "padding": null,
            "right": null,
            "top": null,
            "visibility": null,
            "width": null
          }
        },
        "0adfcc09f3ca497bba2d48d93f55113f": {
          "model_module": "@jupyter-widgets/controls",
          "model_name": "ProgressStyleModel",
          "model_module_version": "1.5.0",
          "state": {
            "_model_module": "@jupyter-widgets/controls",
            "_model_module_version": "1.5.0",
            "_model_name": "ProgressStyleModel",
            "_view_count": null,
            "_view_module": "@jupyter-widgets/base",
            "_view_module_version": "1.2.0",
            "_view_name": "StyleView",
            "bar_color": null,
            "description_width": ""
          }
        },
        "c04b2feaafda423aae13873a42c7ce6c": {
          "model_module": "@jupyter-widgets/base",
          "model_name": "LayoutModel",
          "model_module_version": "1.2.0",
          "state": {
            "_model_module": "@jupyter-widgets/base",
            "_model_module_version": "1.2.0",
            "_model_name": "LayoutModel",
            "_view_count": null,
            "_view_module": "@jupyter-widgets/base",
            "_view_module_version": "1.2.0",
            "_view_name": "LayoutView",
            "align_content": null,
            "align_items": null,
            "align_self": null,
            "border": null,
            "bottom": null,
            "display": null,
            "flex": null,
            "flex_flow": null,
            "grid_area": null,
            "grid_auto_columns": null,
            "grid_auto_flow": null,
            "grid_auto_rows": null,
            "grid_column": null,
            "grid_gap": null,
            "grid_row": null,
            "grid_template_areas": null,
            "grid_template_columns": null,
            "grid_template_rows": null,
            "height": null,
            "justify_content": null,
            "justify_items": null,
            "left": null,
            "margin": null,
            "max_height": null,
            "max_width": null,
            "min_height": null,
            "min_width": null,
            "object_fit": null,
            "object_position": null,
            "order": null,
            "overflow": null,
            "overflow_x": null,
            "overflow_y": null,
            "padding": null,
            "right": null,
            "top": null,
            "visibility": null,
            "width": null
          }
        },
        "b6a97959fed84a32b95c662ce7ebbc5d": {
          "model_module": "@jupyter-widgets/controls",
          "model_name": "DescriptionStyleModel",
          "model_module_version": "1.5.0",
          "state": {
            "_model_module": "@jupyter-widgets/controls",
            "_model_module_version": "1.5.0",
            "_model_name": "DescriptionStyleModel",
            "_view_count": null,
            "_view_module": "@jupyter-widgets/base",
            "_view_module_version": "1.2.0",
            "_view_name": "StyleView",
            "description_width": ""
          }
        },
        "5e16c5a211ce4da1ab4c0cd58be7e74f": {
          "model_module": "@jupyter-widgets/controls",
          "model_name": "HBoxModel",
          "model_module_version": "1.5.0",
          "state": {
            "_dom_classes": [],
            "_model_module": "@jupyter-widgets/controls",
            "_model_module_version": "1.5.0",
            "_model_name": "HBoxModel",
            "_view_count": null,
            "_view_module": "@jupyter-widgets/controls",
            "_view_module_version": "1.5.0",
            "_view_name": "HBoxView",
            "box_style": "",
            "children": [
              "IPY_MODEL_6969d010209d45bcbd1de91307583abc",
              "IPY_MODEL_1e2698cb7db74976b219e82b156edd0c",
              "IPY_MODEL_e9c92f60a7b24fe6b6833e1b50815eeb"
            ],
            "layout": "IPY_MODEL_832a4819a3a9443eb8007fcfe45dbb01"
          }
        },
        "6969d010209d45bcbd1de91307583abc": {
          "model_module": "@jupyter-widgets/controls",
          "model_name": "HTMLModel",
          "model_module_version": "1.5.0",
          "state": {
            "_dom_classes": [],
            "_model_module": "@jupyter-widgets/controls",
            "_model_module_version": "1.5.0",
            "_model_name": "HTMLModel",
            "_view_count": null,
            "_view_module": "@jupyter-widgets/controls",
            "_view_module_version": "1.5.0",
            "_view_name": "HTMLView",
            "description": "",
            "description_tooltip": null,
            "layout": "IPY_MODEL_2bce0097cb4f401e927547a09fe68fad",
            "placeholder": "​",
            "style": "IPY_MODEL_18fcf906adcf4842b4e4a6d8dd1497b4",
            "value": "Downloading data: 100%"
          }
        },
        "1e2698cb7db74976b219e82b156edd0c": {
          "model_module": "@jupyter-widgets/controls",
          "model_name": "FloatProgressModel",
          "model_module_version": "1.5.0",
          "state": {
            "_dom_classes": [],
            "_model_module": "@jupyter-widgets/controls",
            "_model_module_version": "1.5.0",
            "_model_name": "FloatProgressModel",
            "_view_count": null,
            "_view_module": "@jupyter-widgets/controls",
            "_view_module_version": "1.5.0",
            "_view_name": "ProgressView",
            "bar_style": "success",
            "description": "",
            "description_tooltip": null,
            "layout": "IPY_MODEL_435bbc7bd0154e18a7ed6412c580ca32",
            "max": 41996509,
            "min": 0,
            "orientation": "horizontal",
            "style": "IPY_MODEL_7ae4e3d2e0d34df3937b18027fbcdd88",
            "value": 41996509
          }
        },
        "e9c92f60a7b24fe6b6833e1b50815eeb": {
          "model_module": "@jupyter-widgets/controls",
          "model_name": "HTMLModel",
          "model_module_version": "1.5.0",
          "state": {
            "_dom_classes": [],
            "_model_module": "@jupyter-widgets/controls",
            "_model_module_version": "1.5.0",
            "_model_name": "HTMLModel",
            "_view_count": null,
            "_view_module": "@jupyter-widgets/controls",
            "_view_module_version": "1.5.0",
            "_view_name": "HTMLView",
            "description": "",
            "description_tooltip": null,
            "layout": "IPY_MODEL_74807e041fd041c99da6ed9efad2c22b",
            "placeholder": "​",
            "style": "IPY_MODEL_38ce01e2bb1f4211866ad3d5ac038bd2",
            "value": " 42.0M/42.0M [00:00&lt;00:00, 83.2MB/s]"
          }
        },
        "832a4819a3a9443eb8007fcfe45dbb01": {
          "model_module": "@jupyter-widgets/base",
          "model_name": "LayoutModel",
          "model_module_version": "1.2.0",
          "state": {
            "_model_module": "@jupyter-widgets/base",
            "_model_module_version": "1.2.0",
            "_model_name": "LayoutModel",
            "_view_count": null,
            "_view_module": "@jupyter-widgets/base",
            "_view_module_version": "1.2.0",
            "_view_name": "LayoutView",
            "align_content": null,
            "align_items": null,
            "align_self": null,
            "border": null,
            "bottom": null,
            "display": null,
            "flex": null,
            "flex_flow": null,
            "grid_area": null,
            "grid_auto_columns": null,
            "grid_auto_flow": null,
            "grid_auto_rows": null,
            "grid_column": null,
            "grid_gap": null,
            "grid_row": null,
            "grid_template_areas": null,
            "grid_template_columns": null,
            "grid_template_rows": null,
            "height": null,
            "justify_content": null,
            "justify_items": null,
            "left": null,
            "margin": null,
            "max_height": null,
            "max_width": null,
            "min_height": null,
            "min_width": null,
            "object_fit": null,
            "object_position": null,
            "order": null,
            "overflow": null,
            "overflow_x": null,
            "overflow_y": null,
            "padding": null,
            "right": null,
            "top": null,
            "visibility": null,
            "width": null
          }
        },
        "2bce0097cb4f401e927547a09fe68fad": {
          "model_module": "@jupyter-widgets/base",
          "model_name": "LayoutModel",
          "model_module_version": "1.2.0",
          "state": {
            "_model_module": "@jupyter-widgets/base",
            "_model_module_version": "1.2.0",
            "_model_name": "LayoutModel",
            "_view_count": null,
            "_view_module": "@jupyter-widgets/base",
            "_view_module_version": "1.2.0",
            "_view_name": "LayoutView",
            "align_content": null,
            "align_items": null,
            "align_self": null,
            "border": null,
            "bottom": null,
            "display": null,
            "flex": null,
            "flex_flow": null,
            "grid_area": null,
            "grid_auto_columns": null,
            "grid_auto_flow": null,
            "grid_auto_rows": null,
            "grid_column": null,
            "grid_gap": null,
            "grid_row": null,
            "grid_template_areas": null,
            "grid_template_columns": null,
            "grid_template_rows": null,
            "height": null,
            "justify_content": null,
            "justify_items": null,
            "left": null,
            "margin": null,
            "max_height": null,
            "max_width": null,
            "min_height": null,
            "min_width": null,
            "object_fit": null,
            "object_position": null,
            "order": null,
            "overflow": null,
            "overflow_x": null,
            "overflow_y": null,
            "padding": null,
            "right": null,
            "top": null,
            "visibility": null,
            "width": null
          }
        },
        "18fcf906adcf4842b4e4a6d8dd1497b4": {
          "model_module": "@jupyter-widgets/controls",
          "model_name": "DescriptionStyleModel",
          "model_module_version": "1.5.0",
          "state": {
            "_model_module": "@jupyter-widgets/controls",
            "_model_module_version": "1.5.0",
            "_model_name": "DescriptionStyleModel",
            "_view_count": null,
            "_view_module": "@jupyter-widgets/base",
            "_view_module_version": "1.2.0",
            "_view_name": "StyleView",
            "description_width": ""
          }
        },
        "435bbc7bd0154e18a7ed6412c580ca32": {
          "model_module": "@jupyter-widgets/base",
          "model_name": "LayoutModel",
          "model_module_version": "1.2.0",
          "state": {
            "_model_module": "@jupyter-widgets/base",
            "_model_module_version": "1.2.0",
            "_model_name": "LayoutModel",
            "_view_count": null,
            "_view_module": "@jupyter-widgets/base",
            "_view_module_version": "1.2.0",
            "_view_name": "LayoutView",
            "align_content": null,
            "align_items": null,
            "align_self": null,
            "border": null,
            "bottom": null,
            "display": null,
            "flex": null,
            "flex_flow": null,
            "grid_area": null,
            "grid_auto_columns": null,
            "grid_auto_flow": null,
            "grid_auto_rows": null,
            "grid_column": null,
            "grid_gap": null,
            "grid_row": null,
            "grid_template_areas": null,
            "grid_template_columns": null,
            "grid_template_rows": null,
            "height": null,
            "justify_content": null,
            "justify_items": null,
            "left": null,
            "margin": null,
            "max_height": null,
            "max_width": null,
            "min_height": null,
            "min_width": null,
            "object_fit": null,
            "object_position": null,
            "order": null,
            "overflow": null,
            "overflow_x": null,
            "overflow_y": null,
            "padding": null,
            "right": null,
            "top": null,
            "visibility": null,
            "width": null
          }
        },
        "7ae4e3d2e0d34df3937b18027fbcdd88": {
          "model_module": "@jupyter-widgets/controls",
          "model_name": "ProgressStyleModel",
          "model_module_version": "1.5.0",
          "state": {
            "_model_module": "@jupyter-widgets/controls",
            "_model_module_version": "1.5.0",
            "_model_name": "ProgressStyleModel",
            "_view_count": null,
            "_view_module": "@jupyter-widgets/base",
            "_view_module_version": "1.2.0",
            "_view_name": "StyleView",
            "bar_color": null,
            "description_width": ""
          }
        },
        "74807e041fd041c99da6ed9efad2c22b": {
          "model_module": "@jupyter-widgets/base",
          "model_name": "LayoutModel",
          "model_module_version": "1.2.0",
          "state": {
            "_model_module": "@jupyter-widgets/base",
            "_model_module_version": "1.2.0",
            "_model_name": "LayoutModel",
            "_view_count": null,
            "_view_module": "@jupyter-widgets/base",
            "_view_module_version": "1.2.0",
            "_view_name": "LayoutView",
            "align_content": null,
            "align_items": null,
            "align_self": null,
            "border": null,
            "bottom": null,
            "display": null,
            "flex": null,
            "flex_flow": null,
            "grid_area": null,
            "grid_auto_columns": null,
            "grid_auto_flow": null,
            "grid_auto_rows": null,
            "grid_column": null,
            "grid_gap": null,
            "grid_row": null,
            "grid_template_areas": null,
            "grid_template_columns": null,
            "grid_template_rows": null,
            "height": null,
            "justify_content": null,
            "justify_items": null,
            "left": null,
            "margin": null,
            "max_height": null,
            "max_width": null,
            "min_height": null,
            "min_width": null,
            "object_fit": null,
            "object_position": null,
            "order": null,
            "overflow": null,
            "overflow_x": null,
            "overflow_y": null,
            "padding": null,
            "right": null,
            "top": null,
            "visibility": null,
            "width": null
          }
        },
        "38ce01e2bb1f4211866ad3d5ac038bd2": {
          "model_module": "@jupyter-widgets/controls",
          "model_name": "DescriptionStyleModel",
          "model_module_version": "1.5.0",
          "state": {
            "_model_module": "@jupyter-widgets/controls",
            "_model_module_version": "1.5.0",
            "_model_name": "DescriptionStyleModel",
            "_view_count": null,
            "_view_module": "@jupyter-widgets/base",
            "_view_module_version": "1.2.0",
            "_view_name": "StyleView",
            "description_width": ""
          }
        },
        "cac2af601b934dd2b9936cdecef6d9cb": {
          "model_module": "@jupyter-widgets/controls",
          "model_name": "HBoxModel",
          "model_module_version": "1.5.0",
          "state": {
            "_dom_classes": [],
            "_model_module": "@jupyter-widgets/controls",
            "_model_module_version": "1.5.0",
            "_model_name": "HBoxModel",
            "_view_count": null,
            "_view_module": "@jupyter-widgets/controls",
            "_view_module_version": "1.5.0",
            "_view_name": "HBoxView",
            "box_style": "",
            "children": [
              "IPY_MODEL_ce6c760ebf2f4df4ad66b83ae3a833ca",
              "IPY_MODEL_b2643150310644a0ae1dbbc13873532c",
              "IPY_MODEL_039ee5cd39994c2982c2cc692b5d32f2"
            ],
            "layout": "IPY_MODEL_657422f23ac8431fa92c96dd2241c328"
          }
        },
        "ce6c760ebf2f4df4ad66b83ae3a833ca": {
          "model_module": "@jupyter-widgets/controls",
          "model_name": "HTMLModel",
          "model_module_version": "1.5.0",
          "state": {
            "_dom_classes": [],
            "_model_module": "@jupyter-widgets/controls",
            "_model_module_version": "1.5.0",
            "_model_name": "HTMLModel",
            "_view_count": null,
            "_view_module": "@jupyter-widgets/controls",
            "_view_module_version": "1.5.0",
            "_view_name": "HTMLView",
            "description": "",
            "description_tooltip": null,
            "layout": "IPY_MODEL_d011b35a1cc44d6bbe03b704daab7c60",
            "placeholder": "​",
            "style": "IPY_MODEL_af3096e593c14b6d8e57d33c7ebc7285",
            "value": "Generating train split: 100%"
          }
        },
        "b2643150310644a0ae1dbbc13873532c": {
          "model_module": "@jupyter-widgets/controls",
          "model_name": "FloatProgressModel",
          "model_module_version": "1.5.0",
          "state": {
            "_dom_classes": [],
            "_model_module": "@jupyter-widgets/controls",
            "_model_module_version": "1.5.0",
            "_model_name": "FloatProgressModel",
            "_view_count": null,
            "_view_module": "@jupyter-widgets/controls",
            "_view_module_version": "1.5.0",
            "_view_name": "ProgressView",
            "bar_style": "success",
            "description": "",
            "description_tooltip": null,
            "layout": "IPY_MODEL_e7d1ef74c5464307b28efe0ba047342d",
            "max": 25000,
            "min": 0,
            "orientation": "horizontal",
            "style": "IPY_MODEL_43ac7f3a1a434b85a7cf7bf86cab1f6d",
            "value": 25000
          }
        },
        "039ee5cd39994c2982c2cc692b5d32f2": {
          "model_module": "@jupyter-widgets/controls",
          "model_name": "HTMLModel",
          "model_module_version": "1.5.0",
          "state": {
            "_dom_classes": [],
            "_model_module": "@jupyter-widgets/controls",
            "_model_module_version": "1.5.0",
            "_model_name": "HTMLModel",
            "_view_count": null,
            "_view_module": "@jupyter-widgets/controls",
            "_view_module_version": "1.5.0",
            "_view_name": "HTMLView",
            "description": "",
            "description_tooltip": null,
            "layout": "IPY_MODEL_77228850af104b38be8b058b97f0621b",
            "placeholder": "​",
            "style": "IPY_MODEL_50e4eaddafd540cc9788a5c05f9c1ef4",
            "value": " 25000/25000 [00:00&lt;00:00, 47316.46 examples/s]"
          }
        },
        "657422f23ac8431fa92c96dd2241c328": {
          "model_module": "@jupyter-widgets/base",
          "model_name": "LayoutModel",
          "model_module_version": "1.2.0",
          "state": {
            "_model_module": "@jupyter-widgets/base",
            "_model_module_version": "1.2.0",
            "_model_name": "LayoutModel",
            "_view_count": null,
            "_view_module": "@jupyter-widgets/base",
            "_view_module_version": "1.2.0",
            "_view_name": "LayoutView",
            "align_content": null,
            "align_items": null,
            "align_self": null,
            "border": null,
            "bottom": null,
            "display": null,
            "flex": null,
            "flex_flow": null,
            "grid_area": null,
            "grid_auto_columns": null,
            "grid_auto_flow": null,
            "grid_auto_rows": null,
            "grid_column": null,
            "grid_gap": null,
            "grid_row": null,
            "grid_template_areas": null,
            "grid_template_columns": null,
            "grid_template_rows": null,
            "height": null,
            "justify_content": null,
            "justify_items": null,
            "left": null,
            "margin": null,
            "max_height": null,
            "max_width": null,
            "min_height": null,
            "min_width": null,
            "object_fit": null,
            "object_position": null,
            "order": null,
            "overflow": null,
            "overflow_x": null,
            "overflow_y": null,
            "padding": null,
            "right": null,
            "top": null,
            "visibility": null,
            "width": null
          }
        },
        "d011b35a1cc44d6bbe03b704daab7c60": {
          "model_module": "@jupyter-widgets/base",
          "model_name": "LayoutModel",
          "model_module_version": "1.2.0",
          "state": {
            "_model_module": "@jupyter-widgets/base",
            "_model_module_version": "1.2.0",
            "_model_name": "LayoutModel",
            "_view_count": null,
            "_view_module": "@jupyter-widgets/base",
            "_view_module_version": "1.2.0",
            "_view_name": "LayoutView",
            "align_content": null,
            "align_items": null,
            "align_self": null,
            "border": null,
            "bottom": null,
            "display": null,
            "flex": null,
            "flex_flow": null,
            "grid_area": null,
            "grid_auto_columns": null,
            "grid_auto_flow": null,
            "grid_auto_rows": null,
            "grid_column": null,
            "grid_gap": null,
            "grid_row": null,
            "grid_template_areas": null,
            "grid_template_columns": null,
            "grid_template_rows": null,
            "height": null,
            "justify_content": null,
            "justify_items": null,
            "left": null,
            "margin": null,
            "max_height": null,
            "max_width": null,
            "min_height": null,
            "min_width": null,
            "object_fit": null,
            "object_position": null,
            "order": null,
            "overflow": null,
            "overflow_x": null,
            "overflow_y": null,
            "padding": null,
            "right": null,
            "top": null,
            "visibility": null,
            "width": null
          }
        },
        "af3096e593c14b6d8e57d33c7ebc7285": {
          "model_module": "@jupyter-widgets/controls",
          "model_name": "DescriptionStyleModel",
          "model_module_version": "1.5.0",
          "state": {
            "_model_module": "@jupyter-widgets/controls",
            "_model_module_version": "1.5.0",
            "_model_name": "DescriptionStyleModel",
            "_view_count": null,
            "_view_module": "@jupyter-widgets/base",
            "_view_module_version": "1.2.0",
            "_view_name": "StyleView",
            "description_width": ""
          }
        },
        "e7d1ef74c5464307b28efe0ba047342d": {
          "model_module": "@jupyter-widgets/base",
          "model_name": "LayoutModel",
          "model_module_version": "1.2.0",
          "state": {
            "_model_module": "@jupyter-widgets/base",
            "_model_module_version": "1.2.0",
            "_model_name": "LayoutModel",
            "_view_count": null,
            "_view_module": "@jupyter-widgets/base",
            "_view_module_version": "1.2.0",
            "_view_name": "LayoutView",
            "align_content": null,
            "align_items": null,
            "align_self": null,
            "border": null,
            "bottom": null,
            "display": null,
            "flex": null,
            "flex_flow": null,
            "grid_area": null,
            "grid_auto_columns": null,
            "grid_auto_flow": null,
            "grid_auto_rows": null,
            "grid_column": null,
            "grid_gap": null,
            "grid_row": null,
            "grid_template_areas": null,
            "grid_template_columns": null,
            "grid_template_rows": null,
            "height": null,
            "justify_content": null,
            "justify_items": null,
            "left": null,
            "margin": null,
            "max_height": null,
            "max_width": null,
            "min_height": null,
            "min_width": null,
            "object_fit": null,
            "object_position": null,
            "order": null,
            "overflow": null,
            "overflow_x": null,
            "overflow_y": null,
            "padding": null,
            "right": null,
            "top": null,
            "visibility": null,
            "width": null
          }
        },
        "43ac7f3a1a434b85a7cf7bf86cab1f6d": {
          "model_module": "@jupyter-widgets/controls",
          "model_name": "ProgressStyleModel",
          "model_module_version": "1.5.0",
          "state": {
            "_model_module": "@jupyter-widgets/controls",
            "_model_module_version": "1.5.0",
            "_model_name": "ProgressStyleModel",
            "_view_count": null,
            "_view_module": "@jupyter-widgets/base",
            "_view_module_version": "1.2.0",
            "_view_name": "StyleView",
            "bar_color": null,
            "description_width": ""
          }
        },
        "77228850af104b38be8b058b97f0621b": {
          "model_module": "@jupyter-widgets/base",
          "model_name": "LayoutModel",
          "model_module_version": "1.2.0",
          "state": {
            "_model_module": "@jupyter-widgets/base",
            "_model_module_version": "1.2.0",
            "_model_name": "LayoutModel",
            "_view_count": null,
            "_view_module": "@jupyter-widgets/base",
            "_view_module_version": "1.2.0",
            "_view_name": "LayoutView",
            "align_content": null,
            "align_items": null,
            "align_self": null,
            "border": null,
            "bottom": null,
            "display": null,
            "flex": null,
            "flex_flow": null,
            "grid_area": null,
            "grid_auto_columns": null,
            "grid_auto_flow": null,
            "grid_auto_rows": null,
            "grid_column": null,
            "grid_gap": null,
            "grid_row": null,
            "grid_template_areas": null,
            "grid_template_columns": null,
            "grid_template_rows": null,
            "height": null,
            "justify_content": null,
            "justify_items": null,
            "left": null,
            "margin": null,
            "max_height": null,
            "max_width": null,
            "min_height": null,
            "min_width": null,
            "object_fit": null,
            "object_position": null,
            "order": null,
            "overflow": null,
            "overflow_x": null,
            "overflow_y": null,
            "padding": null,
            "right": null,
            "top": null,
            "visibility": null,
            "width": null
          }
        },
        "50e4eaddafd540cc9788a5c05f9c1ef4": {
          "model_module": "@jupyter-widgets/controls",
          "model_name": "DescriptionStyleModel",
          "model_module_version": "1.5.0",
          "state": {
            "_model_module": "@jupyter-widgets/controls",
            "_model_module_version": "1.5.0",
            "_model_name": "DescriptionStyleModel",
            "_view_count": null,
            "_view_module": "@jupyter-widgets/base",
            "_view_module_version": "1.2.0",
            "_view_name": "StyleView",
            "description_width": ""
          }
        },
        "0b18b905ebe746e999df220b6a3c8132": {
          "model_module": "@jupyter-widgets/controls",
          "model_name": "HBoxModel",
          "model_module_version": "1.5.0",
          "state": {
            "_dom_classes": [],
            "_model_module": "@jupyter-widgets/controls",
            "_model_module_version": "1.5.0",
            "_model_name": "HBoxModel",
            "_view_count": null,
            "_view_module": "@jupyter-widgets/controls",
            "_view_module_version": "1.5.0",
            "_view_name": "HBoxView",
            "box_style": "",
            "children": [
              "IPY_MODEL_661a5b74c9cf494a907bd1ba357cfb2d",
              "IPY_MODEL_683c360c921a4e2cbb1917e7ba9fd67f",
              "IPY_MODEL_8c6c718ca7e74a23a1b775743ea9d5ba"
            ],
            "layout": "IPY_MODEL_9c766e7421844663babfbe586af95833"
          }
        },
        "661a5b74c9cf494a907bd1ba357cfb2d": {
          "model_module": "@jupyter-widgets/controls",
          "model_name": "HTMLModel",
          "model_module_version": "1.5.0",
          "state": {
            "_dom_classes": [],
            "_model_module": "@jupyter-widgets/controls",
            "_model_module_version": "1.5.0",
            "_model_name": "HTMLModel",
            "_view_count": null,
            "_view_module": "@jupyter-widgets/controls",
            "_view_module_version": "1.5.0",
            "_view_name": "HTMLView",
            "description": "",
            "description_tooltip": null,
            "layout": "IPY_MODEL_0f2f0ad8d507428fad3667fd0cba496a",
            "placeholder": "​",
            "style": "IPY_MODEL_6490df075fc741e0b4da543d7fc5de40",
            "value": "Generating test split: 100%"
          }
        },
        "683c360c921a4e2cbb1917e7ba9fd67f": {
          "model_module": "@jupyter-widgets/controls",
          "model_name": "FloatProgressModel",
          "model_module_version": "1.5.0",
          "state": {
            "_dom_classes": [],
            "_model_module": "@jupyter-widgets/controls",
            "_model_module_version": "1.5.0",
            "_model_name": "FloatProgressModel",
            "_view_count": null,
            "_view_module": "@jupyter-widgets/controls",
            "_view_module_version": "1.5.0",
            "_view_name": "ProgressView",
            "bar_style": "success",
            "description": "",
            "description_tooltip": null,
            "layout": "IPY_MODEL_0049357b0c32460292af459acf522f63",
            "max": 25000,
            "min": 0,
            "orientation": "horizontal",
            "style": "IPY_MODEL_3982bfd866904709ad3d8859f7b458f1",
            "value": 25000
          }
        },
        "8c6c718ca7e74a23a1b775743ea9d5ba": {
          "model_module": "@jupyter-widgets/controls",
          "model_name": "HTMLModel",
          "model_module_version": "1.5.0",
          "state": {
            "_dom_classes": [],
            "_model_module": "@jupyter-widgets/controls",
            "_model_module_version": "1.5.0",
            "_model_name": "HTMLModel",
            "_view_count": null,
            "_view_module": "@jupyter-widgets/controls",
            "_view_module_version": "1.5.0",
            "_view_name": "HTMLView",
            "description": "",
            "description_tooltip": null,
            "layout": "IPY_MODEL_efbf1378e6c240e889cfa0f8d2ed5e6a",
            "placeholder": "​",
            "style": "IPY_MODEL_7e7abcd14949497f85c09afc9c5d1af2",
            "value": " 25000/25000 [00:00&lt;00:00, 54712.85 examples/s]"
          }
        },
        "9c766e7421844663babfbe586af95833": {
          "model_module": "@jupyter-widgets/base",
          "model_name": "LayoutModel",
          "model_module_version": "1.2.0",
          "state": {
            "_model_module": "@jupyter-widgets/base",
            "_model_module_version": "1.2.0",
            "_model_name": "LayoutModel",
            "_view_count": null,
            "_view_module": "@jupyter-widgets/base",
            "_view_module_version": "1.2.0",
            "_view_name": "LayoutView",
            "align_content": null,
            "align_items": null,
            "align_self": null,
            "border": null,
            "bottom": null,
            "display": null,
            "flex": null,
            "flex_flow": null,
            "grid_area": null,
            "grid_auto_columns": null,
            "grid_auto_flow": null,
            "grid_auto_rows": null,
            "grid_column": null,
            "grid_gap": null,
            "grid_row": null,
            "grid_template_areas": null,
            "grid_template_columns": null,
            "grid_template_rows": null,
            "height": null,
            "justify_content": null,
            "justify_items": null,
            "left": null,
            "margin": null,
            "max_height": null,
            "max_width": null,
            "min_height": null,
            "min_width": null,
            "object_fit": null,
            "object_position": null,
            "order": null,
            "overflow": null,
            "overflow_x": null,
            "overflow_y": null,
            "padding": null,
            "right": null,
            "top": null,
            "visibility": null,
            "width": null
          }
        },
        "0f2f0ad8d507428fad3667fd0cba496a": {
          "model_module": "@jupyter-widgets/base",
          "model_name": "LayoutModel",
          "model_module_version": "1.2.0",
          "state": {
            "_model_module": "@jupyter-widgets/base",
            "_model_module_version": "1.2.0",
            "_model_name": "LayoutModel",
            "_view_count": null,
            "_view_module": "@jupyter-widgets/base",
            "_view_module_version": "1.2.0",
            "_view_name": "LayoutView",
            "align_content": null,
            "align_items": null,
            "align_self": null,
            "border": null,
            "bottom": null,
            "display": null,
            "flex": null,
            "flex_flow": null,
            "grid_area": null,
            "grid_auto_columns": null,
            "grid_auto_flow": null,
            "grid_auto_rows": null,
            "grid_column": null,
            "grid_gap": null,
            "grid_row": null,
            "grid_template_areas": null,
            "grid_template_columns": null,
            "grid_template_rows": null,
            "height": null,
            "justify_content": null,
            "justify_items": null,
            "left": null,
            "margin": null,
            "max_height": null,
            "max_width": null,
            "min_height": null,
            "min_width": null,
            "object_fit": null,
            "object_position": null,
            "order": null,
            "overflow": null,
            "overflow_x": null,
            "overflow_y": null,
            "padding": null,
            "right": null,
            "top": null,
            "visibility": null,
            "width": null
          }
        },
        "6490df075fc741e0b4da543d7fc5de40": {
          "model_module": "@jupyter-widgets/controls",
          "model_name": "DescriptionStyleModel",
          "model_module_version": "1.5.0",
          "state": {
            "_model_module": "@jupyter-widgets/controls",
            "_model_module_version": "1.5.0",
            "_model_name": "DescriptionStyleModel",
            "_view_count": null,
            "_view_module": "@jupyter-widgets/base",
            "_view_module_version": "1.2.0",
            "_view_name": "StyleView",
            "description_width": ""
          }
        },
        "0049357b0c32460292af459acf522f63": {
          "model_module": "@jupyter-widgets/base",
          "model_name": "LayoutModel",
          "model_module_version": "1.2.0",
          "state": {
            "_model_module": "@jupyter-widgets/base",
            "_model_module_version": "1.2.0",
            "_model_name": "LayoutModel",
            "_view_count": null,
            "_view_module": "@jupyter-widgets/base",
            "_view_module_version": "1.2.0",
            "_view_name": "LayoutView",
            "align_content": null,
            "align_items": null,
            "align_self": null,
            "border": null,
            "bottom": null,
            "display": null,
            "flex": null,
            "flex_flow": null,
            "grid_area": null,
            "grid_auto_columns": null,
            "grid_auto_flow": null,
            "grid_auto_rows": null,
            "grid_column": null,
            "grid_gap": null,
            "grid_row": null,
            "grid_template_areas": null,
            "grid_template_columns": null,
            "grid_template_rows": null,
            "height": null,
            "justify_content": null,
            "justify_items": null,
            "left": null,
            "margin": null,
            "max_height": null,
            "max_width": null,
            "min_height": null,
            "min_width": null,
            "object_fit": null,
            "object_position": null,
            "order": null,
            "overflow": null,
            "overflow_x": null,
            "overflow_y": null,
            "padding": null,
            "right": null,
            "top": null,
            "visibility": null,
            "width": null
          }
        },
        "3982bfd866904709ad3d8859f7b458f1": {
          "model_module": "@jupyter-widgets/controls",
          "model_name": "ProgressStyleModel",
          "model_module_version": "1.5.0",
          "state": {
            "_model_module": "@jupyter-widgets/controls",
            "_model_module_version": "1.5.0",
            "_model_name": "ProgressStyleModel",
            "_view_count": null,
            "_view_module": "@jupyter-widgets/base",
            "_view_module_version": "1.2.0",
            "_view_name": "StyleView",
            "bar_color": null,
            "description_width": ""
          }
        },
        "efbf1378e6c240e889cfa0f8d2ed5e6a": {
          "model_module": "@jupyter-widgets/base",
          "model_name": "LayoutModel",
          "model_module_version": "1.2.0",
          "state": {
            "_model_module": "@jupyter-widgets/base",
            "_model_module_version": "1.2.0",
            "_model_name": "LayoutModel",
            "_view_count": null,
            "_view_module": "@jupyter-widgets/base",
            "_view_module_version": "1.2.0",
            "_view_name": "LayoutView",
            "align_content": null,
            "align_items": null,
            "align_self": null,
            "border": null,
            "bottom": null,
            "display": null,
            "flex": null,
            "flex_flow": null,
            "grid_area": null,
            "grid_auto_columns": null,
            "grid_auto_flow": null,
            "grid_auto_rows": null,
            "grid_column": null,
            "grid_gap": null,
            "grid_row": null,
            "grid_template_areas": null,
            "grid_template_columns": null,
            "grid_template_rows": null,
            "height": null,
            "justify_content": null,
            "justify_items": null,
            "left": null,
            "margin": null,
            "max_height": null,
            "max_width": null,
            "min_height": null,
            "min_width": null,
            "object_fit": null,
            "object_position": null,
            "order": null,
            "overflow": null,
            "overflow_x": null,
            "overflow_y": null,
            "padding": null,
            "right": null,
            "top": null,
            "visibility": null,
            "width": null
          }
        },
        "7e7abcd14949497f85c09afc9c5d1af2": {
          "model_module": "@jupyter-widgets/controls",
          "model_name": "DescriptionStyleModel",
          "model_module_version": "1.5.0",
          "state": {
            "_model_module": "@jupyter-widgets/controls",
            "_model_module_version": "1.5.0",
            "_model_name": "DescriptionStyleModel",
            "_view_count": null,
            "_view_module": "@jupyter-widgets/base",
            "_view_module_version": "1.2.0",
            "_view_name": "StyleView",
            "description_width": ""
          }
        },
        "6a4ddb6bb66d4ffd8f6617a2be1df7db": {
          "model_module": "@jupyter-widgets/controls",
          "model_name": "HBoxModel",
          "model_module_version": "1.5.0",
          "state": {
            "_dom_classes": [],
            "_model_module": "@jupyter-widgets/controls",
            "_model_module_version": "1.5.0",
            "_model_name": "HBoxModel",
            "_view_count": null,
            "_view_module": "@jupyter-widgets/controls",
            "_view_module_version": "1.5.0",
            "_view_name": "HBoxView",
            "box_style": "",
            "children": [
              "IPY_MODEL_6ce3f8ad0e2046fea4c0537bcf5023ee",
              "IPY_MODEL_5d4c1d0328ac44d0adfec4bf0bdb9a51",
              "IPY_MODEL_14d4cc2d4309469eb4fca5eec8aa1a10"
            ],
            "layout": "IPY_MODEL_dde090caf0c84ad7bf52f063a9ed528a"
          }
        },
        "6ce3f8ad0e2046fea4c0537bcf5023ee": {
          "model_module": "@jupyter-widgets/controls",
          "model_name": "HTMLModel",
          "model_module_version": "1.5.0",
          "state": {
            "_dom_classes": [],
            "_model_module": "@jupyter-widgets/controls",
            "_model_module_version": "1.5.0",
            "_model_name": "HTMLModel",
            "_view_count": null,
            "_view_module": "@jupyter-widgets/controls",
            "_view_module_version": "1.5.0",
            "_view_name": "HTMLView",
            "description": "",
            "description_tooltip": null,
            "layout": "IPY_MODEL_0dab60e769034c4dab0cfd50fb087be2",
            "placeholder": "​",
            "style": "IPY_MODEL_d8296f0bfde34fe394fc1eef1f3aaf98",
            "value": "Generating unsupervised split: 100%"
          }
        },
        "5d4c1d0328ac44d0adfec4bf0bdb9a51": {
          "model_module": "@jupyter-widgets/controls",
          "model_name": "FloatProgressModel",
          "model_module_version": "1.5.0",
          "state": {
            "_dom_classes": [],
            "_model_module": "@jupyter-widgets/controls",
            "_model_module_version": "1.5.0",
            "_model_name": "FloatProgressModel",
            "_view_count": null,
            "_view_module": "@jupyter-widgets/controls",
            "_view_module_version": "1.5.0",
            "_view_name": "ProgressView",
            "bar_style": "success",
            "description": "",
            "description_tooltip": null,
            "layout": "IPY_MODEL_a78f6ca3011745109917336d53fbebf9",
            "max": 50000,
            "min": 0,
            "orientation": "horizontal",
            "style": "IPY_MODEL_baa0aae206bc4c0aa8e154db060ce992",
            "value": 50000
          }
        },
        "14d4cc2d4309469eb4fca5eec8aa1a10": {
          "model_module": "@jupyter-widgets/controls",
          "model_name": "HTMLModel",
          "model_module_version": "1.5.0",
          "state": {
            "_dom_classes": [],
            "_model_module": "@jupyter-widgets/controls",
            "_model_module_version": "1.5.0",
            "_model_name": "HTMLModel",
            "_view_count": null,
            "_view_module": "@jupyter-widgets/controls",
            "_view_module_version": "1.5.0",
            "_view_name": "HTMLView",
            "description": "",
            "description_tooltip": null,
            "layout": "IPY_MODEL_b398f1833ac9471ba27e36e84c00126f",
            "placeholder": "​",
            "style": "IPY_MODEL_4a4a6d2af3724338ad6a1586996141cc",
            "value": " 50000/50000 [00:01&lt;00:00, 37433.54 examples/s]"
          }
        },
        "dde090caf0c84ad7bf52f063a9ed528a": {
          "model_module": "@jupyter-widgets/base",
          "model_name": "LayoutModel",
          "model_module_version": "1.2.0",
          "state": {
            "_model_module": "@jupyter-widgets/base",
            "_model_module_version": "1.2.0",
            "_model_name": "LayoutModel",
            "_view_count": null,
            "_view_module": "@jupyter-widgets/base",
            "_view_module_version": "1.2.0",
            "_view_name": "LayoutView",
            "align_content": null,
            "align_items": null,
            "align_self": null,
            "border": null,
            "bottom": null,
            "display": null,
            "flex": null,
            "flex_flow": null,
            "grid_area": null,
            "grid_auto_columns": null,
            "grid_auto_flow": null,
            "grid_auto_rows": null,
            "grid_column": null,
            "grid_gap": null,
            "grid_row": null,
            "grid_template_areas": null,
            "grid_template_columns": null,
            "grid_template_rows": null,
            "height": null,
            "justify_content": null,
            "justify_items": null,
            "left": null,
            "margin": null,
            "max_height": null,
            "max_width": null,
            "min_height": null,
            "min_width": null,
            "object_fit": null,
            "object_position": null,
            "order": null,
            "overflow": null,
            "overflow_x": null,
            "overflow_y": null,
            "padding": null,
            "right": null,
            "top": null,
            "visibility": null,
            "width": null
          }
        },
        "0dab60e769034c4dab0cfd50fb087be2": {
          "model_module": "@jupyter-widgets/base",
          "model_name": "LayoutModel",
          "model_module_version": "1.2.0",
          "state": {
            "_model_module": "@jupyter-widgets/base",
            "_model_module_version": "1.2.0",
            "_model_name": "LayoutModel",
            "_view_count": null,
            "_view_module": "@jupyter-widgets/base",
            "_view_module_version": "1.2.0",
            "_view_name": "LayoutView",
            "align_content": null,
            "align_items": null,
            "align_self": null,
            "border": null,
            "bottom": null,
            "display": null,
            "flex": null,
            "flex_flow": null,
            "grid_area": null,
            "grid_auto_columns": null,
            "grid_auto_flow": null,
            "grid_auto_rows": null,
            "grid_column": null,
            "grid_gap": null,
            "grid_row": null,
            "grid_template_areas": null,
            "grid_template_columns": null,
            "grid_template_rows": null,
            "height": null,
            "justify_content": null,
            "justify_items": null,
            "left": null,
            "margin": null,
            "max_height": null,
            "max_width": null,
            "min_height": null,
            "min_width": null,
            "object_fit": null,
            "object_position": null,
            "order": null,
            "overflow": null,
            "overflow_x": null,
            "overflow_y": null,
            "padding": null,
            "right": null,
            "top": null,
            "visibility": null,
            "width": null
          }
        },
        "d8296f0bfde34fe394fc1eef1f3aaf98": {
          "model_module": "@jupyter-widgets/controls",
          "model_name": "DescriptionStyleModel",
          "model_module_version": "1.5.0",
          "state": {
            "_model_module": "@jupyter-widgets/controls",
            "_model_module_version": "1.5.0",
            "_model_name": "DescriptionStyleModel",
            "_view_count": null,
            "_view_module": "@jupyter-widgets/base",
            "_view_module_version": "1.2.0",
            "_view_name": "StyleView",
            "description_width": ""
          }
        },
        "a78f6ca3011745109917336d53fbebf9": {
          "model_module": "@jupyter-widgets/base",
          "model_name": "LayoutModel",
          "model_module_version": "1.2.0",
          "state": {
            "_model_module": "@jupyter-widgets/base",
            "_model_module_version": "1.2.0",
            "_model_name": "LayoutModel",
            "_view_count": null,
            "_view_module": "@jupyter-widgets/base",
            "_view_module_version": "1.2.0",
            "_view_name": "LayoutView",
            "align_content": null,
            "align_items": null,
            "align_self": null,
            "border": null,
            "bottom": null,
            "display": null,
            "flex": null,
            "flex_flow": null,
            "grid_area": null,
            "grid_auto_columns": null,
            "grid_auto_flow": null,
            "grid_auto_rows": null,
            "grid_column": null,
            "grid_gap": null,
            "grid_row": null,
            "grid_template_areas": null,
            "grid_template_columns": null,
            "grid_template_rows": null,
            "height": null,
            "justify_content": null,
            "justify_items": null,
            "left": null,
            "margin": null,
            "max_height": null,
            "max_width": null,
            "min_height": null,
            "min_width": null,
            "object_fit": null,
            "object_position": null,
            "order": null,
            "overflow": null,
            "overflow_x": null,
            "overflow_y": null,
            "padding": null,
            "right": null,
            "top": null,
            "visibility": null,
            "width": null
          }
        },
        "baa0aae206bc4c0aa8e154db060ce992": {
          "model_module": "@jupyter-widgets/controls",
          "model_name": "ProgressStyleModel",
          "model_module_version": "1.5.0",
          "state": {
            "_model_module": "@jupyter-widgets/controls",
            "_model_module_version": "1.5.0",
            "_model_name": "ProgressStyleModel",
            "_view_count": null,
            "_view_module": "@jupyter-widgets/base",
            "_view_module_version": "1.2.0",
            "_view_name": "StyleView",
            "bar_color": null,
            "description_width": ""
          }
        },
        "b398f1833ac9471ba27e36e84c00126f": {
          "model_module": "@jupyter-widgets/base",
          "model_name": "LayoutModel",
          "model_module_version": "1.2.0",
          "state": {
            "_model_module": "@jupyter-widgets/base",
            "_model_module_version": "1.2.0",
            "_model_name": "LayoutModel",
            "_view_count": null,
            "_view_module": "@jupyter-widgets/base",
            "_view_module_version": "1.2.0",
            "_view_name": "LayoutView",
            "align_content": null,
            "align_items": null,
            "align_self": null,
            "border": null,
            "bottom": null,
            "display": null,
            "flex": null,
            "flex_flow": null,
            "grid_area": null,
            "grid_auto_columns": null,
            "grid_auto_flow": null,
            "grid_auto_rows": null,
            "grid_column": null,
            "grid_gap": null,
            "grid_row": null,
            "grid_template_areas": null,
            "grid_template_columns": null,
            "grid_template_rows": null,
            "height": null,
            "justify_content": null,
            "justify_items": null,
            "left": null,
            "margin": null,
            "max_height": null,
            "max_width": null,
            "min_height": null,
            "min_width": null,
            "object_fit": null,
            "object_position": null,
            "order": null,
            "overflow": null,
            "overflow_x": null,
            "overflow_y": null,
            "padding": null,
            "right": null,
            "top": null,
            "visibility": null,
            "width": null
          }
        },
        "4a4a6d2af3724338ad6a1586996141cc": {
          "model_module": "@jupyter-widgets/controls",
          "model_name": "DescriptionStyleModel",
          "model_module_version": "1.5.0",
          "state": {
            "_model_module": "@jupyter-widgets/controls",
            "_model_module_version": "1.5.0",
            "_model_name": "DescriptionStyleModel",
            "_view_count": null,
            "_view_module": "@jupyter-widgets/base",
            "_view_module_version": "1.2.0",
            "_view_name": "StyleView",
            "description_width": ""
          }
        }
      }
    },
    "accelerator": "GPU"
  },
  "cells": [
    {
      "cell_type": "markdown",
      "source": [
        "# Notebook 1 IA-024-2024S2 FEEC-UNICAMP - Lucas Couto Lima RA: 220696"
      ],
      "metadata": {
        "id": "9A4HuVIYGgXg"
      }
    },
    {
      "cell_type": "markdown",
      "source": [
        "## Instalação e importação de pacotes"
      ],
      "metadata": {
        "id": "XRnOFwqk23W4"
      }
    },
    {
      "cell_type": "code",
      "source": [
        "!pip install datasets portalocker>=2.0.0 -q"
      ],
      "metadata": {
        "id": "HA5BWLDCKmw3",
        "colab": {
          "base_uri": "https://localhost:8080/"
        },
        "outputId": "dbafb17f-177b-4e0c-d89a-7decfd941038"
      },
      "execution_count": null,
      "outputs": [
        {
          "output_type": "stream",
          "name": "stdout",
          "text": [
            "\u001b[31mERROR: pip's dependency resolver does not currently take into account all the packages that are installed. This behaviour is the source of the following dependency conflicts.\n",
            "torch 2.3.1+cu121 requires nvidia-cublas-cu12==12.1.3.1; platform_system == \"Linux\" and platform_machine == \"x86_64\", which is not installed.\n",
            "torch 2.3.1+cu121 requires nvidia-cuda-cupti-cu12==12.1.105; platform_system == \"Linux\" and platform_machine == \"x86_64\", which is not installed.\n",
            "torch 2.3.1+cu121 requires nvidia-cuda-nvrtc-cu12==12.1.105; platform_system == \"Linux\" and platform_machine == \"x86_64\", which is not installed.\n",
            "torch 2.3.1+cu121 requires nvidia-cuda-runtime-cu12==12.1.105; platform_system == \"Linux\" and platform_machine == \"x86_64\", which is not installed.\n",
            "torch 2.3.1+cu121 requires nvidia-cudnn-cu12==8.9.2.26; platform_system == \"Linux\" and platform_machine == \"x86_64\", which is not installed.\n",
            "torch 2.3.1+cu121 requires nvidia-cufft-cu12==11.0.2.54; platform_system == \"Linux\" and platform_machine == \"x86_64\", which is not installed.\n",
            "torch 2.3.1+cu121 requires nvidia-curand-cu12==10.3.2.106; platform_system == \"Linux\" and platform_machine == \"x86_64\", which is not installed.\n",
            "torch 2.3.1+cu121 requires nvidia-cusolver-cu12==11.4.5.107; platform_system == \"Linux\" and platform_machine == \"x86_64\", which is not installed.\n",
            "torch 2.3.1+cu121 requires nvidia-cusparse-cu12==12.1.0.106; platform_system == \"Linux\" and platform_machine == \"x86_64\", which is not installed.\n",
            "torch 2.3.1+cu121 requires nvidia-nccl-cu12==2.20.5; platform_system == \"Linux\" and platform_machine == \"x86_64\", which is not installed.\n",
            "torch 2.3.1+cu121 requires nvidia-nvtx-cu12==12.1.105; platform_system == \"Linux\" and platform_machine == \"x86_64\", which is not installed.\n",
            "cudf-cu12 24.4.1 requires pyarrow<15.0.0a0,>=14.0.1, but you have pyarrow 17.0.0 which is incompatible.\n",
            "gcsfs 2024.6.1 requires fsspec==2024.6.1, but you have fsspec 2024.5.0 which is incompatible.\n",
            "ibis-framework 8.0.0 requires pyarrow<16,>=2, but you have pyarrow 17.0.0 which is incompatible.\u001b[0m\u001b[31m\n",
            "\u001b[0m"
          ]
        }
      ]
    },
    {
      "cell_type": "code",
      "source": [
        "import torch\n",
        "import random\n",
        "from torch.utils.data import Dataset, DataLoader\n",
        "\n",
        "from collections import Counter\n",
        "import torch.nn as nn\n",
        "import torch.optim as optim\n",
        "from datasets import load_dataset"
      ],
      "metadata": {
        "id": "VorDvF62iyXF"
      },
      "execution_count": null,
      "outputs": []
    },
    {
      "cell_type": "markdown",
      "source": [
        "## I - Vocabulário e Tokenização"
      ],
      "metadata": {
        "id": "A5ovJE02CwKT"
      }
    },
    {
      "cell_type": "markdown",
      "source": [
        "### Exemplo do dataset"
      ],
      "metadata": {
        "id": "A8IQxzbyZyA1"
      }
    },
    {
      "cell_type": "code",
      "source": [
        "train_dataset = load_dataset(\"stanfordnlp/imdb\", split=\"train\")\n",
        "test_dataset = load_dataset(\"stanfordnlp/imdb\", split=\"test\")"
      ],
      "metadata": {
        "id": "MtwgK6vnZnQ8",
        "colab": {
          "base_uri": "https://localhost:8080/",
          "height": 345,
          "referenced_widgets": [
            "47a63660caab4d1291e431019348e8ef",
            "af9e327df5974210971b5b7c85b9c6c7",
            "968c868553d245a587cbad6c8d5b57d0",
            "5d0e61c4209c401eb2c412b3849125a0",
            "5cda64f4439e4084873e9bf4df4ada2b",
            "44689cc1a22b43a093d2fb4b4c815e5b",
            "3a35de6ad666435a93aa4fcdcab36364",
            "3a492db58633401cbc963ae9aad3f014",
            "e795617aa7954bc19860824c1fffc18c",
            "ea51bbcc37be4baaaaa5c09b7dd8cd8c",
            "63754f571c834e148f1a06cc5e8400b4",
            "28ddd03776ba4581b01b7fb2c31bf443",
            "c5a5117771114c91aa9c437a95e691ef",
            "143984a827c34f19bc31ffd9db87cba7",
            "5a09ae10a58844ccbd6c55662ba167cd",
            "49a76f3d6b71415ea643b5c9d68e5e69",
            "2ce88ba0d96146d3b21c04e0ae954756",
            "e143a81c7bea42e19f4c426e36b57a94",
            "60cea46f635148cc8ea014168b80387a",
            "121eaf100c60498f98762783b8852270",
            "245f479735524e0d837c89c577e73f91",
            "9d90c8b638974cee8829dd68e00f8165",
            "3da23bd6b9a043d9a96c0f3b6fd64082",
            "6ef84d9dc34e473ebb1d5acdca96eec2",
            "42819018c3174392b997e22ac0e125b1",
            "edc295ffd95245428677dc87fffd870b",
            "23b7d8afc9d34627bb3a52dcc87a4dd5",
            "c736016346ed4c479a8219f54ee6c97d",
            "8ec45e25e5424906be92298be77283ec",
            "5496664340084807b7347663806f5b9b",
            "0adfcc09f3ca497bba2d48d93f55113f",
            "c04b2feaafda423aae13873a42c7ce6c",
            "b6a97959fed84a32b95c662ce7ebbc5d",
            "5e16c5a211ce4da1ab4c0cd58be7e74f",
            "6969d010209d45bcbd1de91307583abc",
            "1e2698cb7db74976b219e82b156edd0c",
            "e9c92f60a7b24fe6b6833e1b50815eeb",
            "832a4819a3a9443eb8007fcfe45dbb01",
            "2bce0097cb4f401e927547a09fe68fad",
            "18fcf906adcf4842b4e4a6d8dd1497b4",
            "435bbc7bd0154e18a7ed6412c580ca32",
            "7ae4e3d2e0d34df3937b18027fbcdd88",
            "74807e041fd041c99da6ed9efad2c22b",
            "38ce01e2bb1f4211866ad3d5ac038bd2",
            "cac2af601b934dd2b9936cdecef6d9cb",
            "ce6c760ebf2f4df4ad66b83ae3a833ca",
            "b2643150310644a0ae1dbbc13873532c",
            "039ee5cd39994c2982c2cc692b5d32f2",
            "657422f23ac8431fa92c96dd2241c328",
            "d011b35a1cc44d6bbe03b704daab7c60",
            "af3096e593c14b6d8e57d33c7ebc7285",
            "e7d1ef74c5464307b28efe0ba047342d",
            "43ac7f3a1a434b85a7cf7bf86cab1f6d",
            "77228850af104b38be8b058b97f0621b",
            "50e4eaddafd540cc9788a5c05f9c1ef4",
            "0b18b905ebe746e999df220b6a3c8132",
            "661a5b74c9cf494a907bd1ba357cfb2d",
            "683c360c921a4e2cbb1917e7ba9fd67f",
            "8c6c718ca7e74a23a1b775743ea9d5ba",
            "9c766e7421844663babfbe586af95833",
            "0f2f0ad8d507428fad3667fd0cba496a",
            "6490df075fc741e0b4da543d7fc5de40",
            "0049357b0c32460292af459acf522f63",
            "3982bfd866904709ad3d8859f7b458f1",
            "efbf1378e6c240e889cfa0f8d2ed5e6a",
            "7e7abcd14949497f85c09afc9c5d1af2",
            "6a4ddb6bb66d4ffd8f6617a2be1df7db",
            "6ce3f8ad0e2046fea4c0537bcf5023ee",
            "5d4c1d0328ac44d0adfec4bf0bdb9a51",
            "14d4cc2d4309469eb4fca5eec8aa1a10",
            "dde090caf0c84ad7bf52f063a9ed528a",
            "0dab60e769034c4dab0cfd50fb087be2",
            "d8296f0bfde34fe394fc1eef1f3aaf98",
            "a78f6ca3011745109917336d53fbebf9",
            "baa0aae206bc4c0aa8e154db060ce992",
            "b398f1833ac9471ba27e36e84c00126f",
            "4a4a6d2af3724338ad6a1586996141cc"
          ]
        },
        "outputId": "9a48a773-c10f-4365-e693-dc53b8314741"
      },
      "execution_count": null,
      "outputs": [
        {
          "output_type": "stream",
          "name": "stderr",
          "text": [
            "/usr/local/lib/python3.10/dist-packages/huggingface_hub/utils/_token.py:89: UserWarning: \n",
            "The secret `HF_TOKEN` does not exist in your Colab secrets.\n",
            "To authenticate with the Hugging Face Hub, create a token in your settings tab (https://huggingface.co/settings/tokens), set it as secret in your Google Colab and restart your session.\n",
            "You will be able to reuse this secret in all of your notebooks.\n",
            "Please note that authentication is recommended but still optional to access public models or datasets.\n",
            "  warnings.warn(\n"
          ]
        },
        {
          "output_type": "display_data",
          "data": {
            "text/plain": [
              "Downloading readme:   0%|          | 0.00/7.81k [00:00<?, ?B/s]"
            ],
            "application/vnd.jupyter.widget-view+json": {
              "version_major": 2,
              "version_minor": 0,
              "model_id": "47a63660caab4d1291e431019348e8ef"
            }
          },
          "metadata": {}
        },
        {
          "output_type": "display_data",
          "data": {
            "text/plain": [
              "Downloading data:   0%|          | 0.00/21.0M [00:00<?, ?B/s]"
            ],
            "application/vnd.jupyter.widget-view+json": {
              "version_major": 2,
              "version_minor": 0,
              "model_id": "28ddd03776ba4581b01b7fb2c31bf443"
            }
          },
          "metadata": {}
        },
        {
          "output_type": "display_data",
          "data": {
            "text/plain": [
              "Downloading data:   0%|          | 0.00/20.5M [00:00<?, ?B/s]"
            ],
            "application/vnd.jupyter.widget-view+json": {
              "version_major": 2,
              "version_minor": 0,
              "model_id": "3da23bd6b9a043d9a96c0f3b6fd64082"
            }
          },
          "metadata": {}
        },
        {
          "output_type": "display_data",
          "data": {
            "text/plain": [
              "Downloading data:   0%|          | 0.00/42.0M [00:00<?, ?B/s]"
            ],
            "application/vnd.jupyter.widget-view+json": {
              "version_major": 2,
              "version_minor": 0,
              "model_id": "5e16c5a211ce4da1ab4c0cd58be7e74f"
            }
          },
          "metadata": {}
        },
        {
          "output_type": "display_data",
          "data": {
            "text/plain": [
              "Generating train split:   0%|          | 0/25000 [00:00<?, ? examples/s]"
            ],
            "application/vnd.jupyter.widget-view+json": {
              "version_major": 2,
              "version_minor": 0,
              "model_id": "cac2af601b934dd2b9936cdecef6d9cb"
            }
          },
          "metadata": {}
        },
        {
          "output_type": "display_data",
          "data": {
            "text/plain": [
              "Generating test split:   0%|          | 0/25000 [00:00<?, ? examples/s]"
            ],
            "application/vnd.jupyter.widget-view+json": {
              "version_major": 2,
              "version_minor": 0,
              "model_id": "0b18b905ebe746e999df220b6a3c8132"
            }
          },
          "metadata": {}
        },
        {
          "output_type": "display_data",
          "data": {
            "text/plain": [
              "Generating unsupervised split:   0%|          | 0/50000 [00:00<?, ? examples/s]"
            ],
            "application/vnd.jupyter.widget-view+json": {
              "version_major": 2,
              "version_minor": 0,
              "model_id": "6a4ddb6bb66d4ffd8f6617a2be1df7db"
            }
          },
          "metadata": {}
        }
      ]
    },
    {
      "cell_type": "code",
      "source": [
        "len(train_dataset)"
      ],
      "metadata": {
        "colab": {
          "base_uri": "https://localhost:8080/"
        },
        "id": "fT1fRvkEIavn",
        "outputId": "c2eb01e4-17f2-4539-9167-d1503faf68ee"
      },
      "execution_count": null,
      "outputs": [
        {
          "output_type": "execute_result",
          "data": {
            "text/plain": [
              "25000"
            ]
          },
          "metadata": {},
          "execution_count": 4
        }
      ]
    },
    {
      "cell_type": "markdown",
      "source": [
        "# Exercício I.1:"
      ],
      "metadata": {
        "id": "1bLkJc8gmNBJ"
      }
    },
    {
      "cell_type": "code",
      "source": [
        "# limit the vocabulary size to 20000 most frequent tokens\n",
        "vocab_size = 20000\n",
        "\n",
        "counter = Counter()\n",
        "counter_label = Counter({0: 0, 1: 0}) # Adição: Contador para o número de amostras positivas e amostras negativas\n",
        "total_text_length = 0 # Adição: Varíavel para calcular o comprimento total de textos do dataset\n",
        "for sample in train_dataset: #\n",
        "    counter.update(sample[\"text\"].split())\n",
        "    label = sample[\"label\"] # Adição: Identifica se a amostra é positiva ou negativa\n",
        "    counter_label[label] += 1 # Adição: Atualiza o contador de acordo com o rótulo\n",
        "\n",
        "    total_text_length += len(sample[\"text\"].split()) # Adição: Atualiza o comprimento total do texto\n",
        "\n",
        "# Calcula o comprimento médio do texto\n",
        "total_size = counter_label[1]+counter_label[0] # Adição: Cálcula o número total de amostras\n",
        "average_text_length = total_text_length / total_size # Adição: Calcula o comprimento médio do texto\n",
        "\n",
        "# Adição: Exibição dos resultados\n",
        "print(f\"Número de amostras positivas: {counter_label[1]}\")\n",
        "print(f\"Número de amostras negativas: {counter_label[0]}\")\n",
        "print(f\"Número total de amostras: {total_size}\")\n",
        "print(f\"Comprimento médio do texto (em número de palavras): {average_text_length}\")"
      ],
      "metadata": {
        "id": "mqzUqy3diz0X",
        "colab": {
          "base_uri": "https://localhost:8080/"
        },
        "outputId": "f1380c16-f9c3-418a-d2cc-c6bac9a71f09"
      },
      "execution_count": null,
      "outputs": [
        {
          "output_type": "stream",
          "name": "stdout",
          "text": [
            "Número de amostras positivas: 12500\n",
            "Número de amostras negativas: 12500\n",
            "Número total de amostras: 25000\n",
            "Comprimento médio do texto (em número de palavras): 233.7872\n"
          ]
        }
      ]
    },
    {
      "cell_type": "markdown",
      "source": [
        "# Exercício I.2:"
      ],
      "metadata": {
        "id": "s6kYRCdAmQgY"
      }
    },
    {
      "cell_type": "code",
      "source": [
        "# create a vocabulary of the 20000 most frequent tokens\n",
        "most_frequent_words = sorted(counter, key=counter.get, reverse=True)[:vocab_size]\n",
        "vocab = {word: i for i, word in enumerate(most_frequent_words, 1)}\n",
        "vocab_size = len(vocab)\n",
        "\n",
        "print(f\"Cinco palavras mais frequentes: {most_frequent_words[:5]}\")\n",
        "print(f\"Cinco palavras menos frequentes: {most_frequent_words[-5:]}\")"
      ],
      "metadata": {
        "colab": {
          "base_uri": "https://localhost:8080/"
        },
        "id": "dbmuoD-deQfl",
        "outputId": "b62beb97-6343-4bfa-c63c-91778a3cf145"
      },
      "execution_count": null,
      "outputs": [
        {
          "output_type": "stream",
          "name": "stdout",
          "text": [
            "Cinco palavras mais frequentes: ['the', 'a', 'and', 'of', 'to']\n",
            "Cinco palavras menos frequentes: ['age-old', 'place!', 'Bros', 'tossing', 'nation,']\n"
          ]
        }
      ]
    },
    {
      "cell_type": "code",
      "source": [
        "\n",
        "def encode_sentence(sentence, vocab):\n",
        "    return [vocab.get(word, 0) for word in sentence.split()] # 0 for OOV\n",
        "\n",
        "encode_sentence(\"I like Pizza.\", vocab)\n",
        "\n",
        "# Calcular quantos tokens das frases do conjunto de treinamento não estão no vocabulário\n",
        "num_unknown_tokens = 0\n",
        "for sample in train_dataset:\n",
        "    encoded_sentence = encode_sentence(sample[\"text\"], vocab)\n",
        "    num_unknown_tokens += encoded_sentence.count(0)\n",
        "\n",
        "print(f\"Número de tokens desconhecidos no conjunto de treinamento: {num_unknown_tokens}\")"
      ],
      "metadata": {
        "id": "0rZn-m1Mi110",
        "colab": {
          "base_uri": "https://localhost:8080/"
        },
        "outputId": "796ca320-7093-4058-ee6f-b4a21a2ffbfc"
      },
      "execution_count": null,
      "outputs": [
        {
          "output_type": "stream",
          "name": "stdout",
          "text": [
            "Número de tokens desconhecidos no conjunto de treinamento: 566141\n"
          ]
        }
      ]
    },
    {
      "cell_type": "markdown",
      "source": [
        "# Exercícios I.3"
      ],
      "metadata": {
        "id": "6fMN5ymymUi4"
      }
    },
    {
      "cell_type": "code",
      "source": [
        "# Treinamento\n",
        "def label_dataset(dataset):\n",
        "  counter_label = Counter({0: 0, 1: 0}) # Adição: Contador para o número de amostras positivas e amostras negativas\n",
        "  for sample in list(dataset)[:200]: # Adição: Considerando apenas as primeiras 200 amostras do conjunto de treinamento\n",
        "      label = sample[\"label\"] # Adição: Identifica se a amostra é positiva ou negativa\n",
        "      counter_label[label] += 1 # Adição: Atualiza o contador de acordo com o rótulo\n",
        "  return counter_label\n",
        "\n",
        "counter_label_train = label_dataset(train_dataset)\n",
        "counter_label_test = label_dataset(test_dataset)\n",
        "# Adição: Exibição dos resultados\n",
        "print(\"Treinamento:\")\n",
        "print(f\"Número de amostras positivas: {counter_label_train[1]}\")\n",
        "print(f\"Número de amostras negativas: {counter_label_train[0]}\")\n",
        "\n",
        "print(\"Teste:\")\n",
        "print(f\"Número de amostras positivas: {counter_label_test[1]}\")\n",
        "print(f\"Número de amostras negativas: {counter_label_test[0]}\")"
      ],
      "metadata": {
        "colab": {
          "base_uri": "https://localhost:8080/"
        },
        "id": "iC1K8aDEmW-v",
        "outputId": "55313447-fc54-43bc-b30f-593dece87a15"
      },
      "execution_count": null,
      "outputs": [
        {
          "output_type": "stream",
          "name": "stdout",
          "text": [
            "Treinamento:\n",
            "Número de amostras positivas: 0\n",
            "Número de amostras negativas: 200\n",
            "Teste:\n",
            "Número de amostras positivas: 0\n",
            "Número de amostras negativas: 200\n"
          ]
        }
      ]
    },
    {
      "cell_type": "code",
      "source": [
        "def balance_dataset(dataset, num_samples_per_class=100):\n",
        "    # Inicialize contadores e listas para armazenar amostras balanceadas\n",
        "    counter_label = Counter({0: 0, 1: 0})\n",
        "    balanced_dataset = []\n",
        "\n",
        "    # Itere sobre o dataset e selecione as amostras balanceadas\n",
        "    for sample in dataset:\n",
        "        label = sample[\"label\"]\n",
        "        if counter_label[label] < num_samples_per_class:\n",
        "            balanced_dataset.append(sample)\n",
        "            counter_label[label] += 1\n",
        "        if counter_label[0] >= num_samples_per_class and counter_label[1] >= num_samples_per_class:\n",
        "            break\n",
        "\n",
        "    return balanced_dataset, counter_label\n",
        "\n",
        "# Balanceando o conjunto de treinamento\n",
        "balanced_train_dataset, train_counter_label = balance_dataset(list(train_dataset))\n",
        "# Balanceando o conjunto de teste\n",
        "balanced_test_dataset, test_counter_label = balance_dataset(list(test_dataset))\n",
        "\n",
        "print(\"Treinamento balanceado:\")\n",
        "print(f\"Número de amostras positivas: {train_counter_label[1]}\")\n",
        "print(f\"Número de amostras negativas: {train_counter_label[0]}\")\n",
        "\n",
        "print(\"Teste balanceado:\")\n",
        "print(f\"Número de amostras positivas: {test_counter_label[1]}\")\n",
        "print(f\"Número de amostras negativas: {test_counter_label[0]}\")"
      ],
      "metadata": {
        "colab": {
          "base_uri": "https://localhost:8080/"
        },
        "id": "IgYCglSNqHJC",
        "outputId": "3e755df6-8f03-4773-95df-9578848d00bc"
      },
      "execution_count": null,
      "outputs": [
        {
          "output_type": "stream",
          "name": "stdout",
          "text": [
            "Treinamento balanceado:\n",
            "Número de amostras positivas: 100\n",
            "Número de amostras negativas: 100\n",
            "Teste balanceado:\n",
            "Número de amostras positivas: 100\n",
            "Número de amostras negativas: 100\n"
          ]
        }
      ]
    },
    {
      "cell_type": "markdown",
      "source": [
        "## II - Dataset"
      ],
      "metadata": {
        "id": "5iV4bF8cDAj1"
      }
    },
    {
      "cell_type": "code",
      "source": [
        "from torch.nn.functional import one_hot\n",
        "# Dataset Class with One-hot Encoding\n",
        "class IMDBDataset(Dataset):\n",
        "    def __init__(self, split, vocab):\n",
        "        #self.data = load_dataset(\"stanfordnlp/imdb\", split=split)\n",
        "        self.data = list(load_dataset(\"stanfordnlp/imdb\", split=split))[:200]\n",
        "        self.vocab = vocab\n",
        "\n",
        "    def __len__(self):\n",
        "        return len(self.data)\n",
        "\n",
        "    def __getitem__(self, idx):\n",
        "        sample = self.data[idx]\n",
        "        target = sample[\"label\"]\n",
        "        line = sample[\"text\"]\n",
        "        target = 1 if target == 1 else 0\n",
        "\n",
        "        # one-hot encoding\n",
        "        X = torch.zeros(len(self.vocab) + 1)\n",
        "        for word in encode_sentence(line, self.vocab):\n",
        "            X[word] = 1\n",
        "\n",
        "        return X, torch.tensor(target)\n",
        "\n",
        "# Load Data with One-hot Encoding\n",
        "train_data = IMDBDataset('train', vocab)\n",
        "test_data = IMDBDataset('test', vocab)\n"
      ],
      "metadata": {
        "id": "VDUyZoTPi262"
      },
      "execution_count": null,
      "outputs": []
    },
    {
      "cell_type": "markdown",
      "source": [
        "## III - Data Loader"
      ],
      "metadata": {
        "id": "d7RMPSvMDL5U"
      }
    },
    {
      "cell_type": "markdown",
      "source": [
        "# Exercícios III.2\n"
      ],
      "metadata": {
        "id": "yCpKm-2V4BPf"
      }
    },
    {
      "cell_type": "code",
      "source": [
        "batch_size = 128\n",
        "# define dataloaders\n",
        "train_loader = DataLoader(train_data, batch_size=batch_size, shuffle=True)\n",
        "test_loader  = DataLoader(test_data,  batch_size=batch_size, shuffle=False)\n",
        "\n",
        "num_iterations = 0\n",
        "last_batch_size = 0\n",
        "for batch in train_loader:\n",
        "    num_iterations += 1\n",
        "    X, y = batch\n",
        "    last_batch_size = X.size(0)\n",
        "\n",
        "print(f\"Número de iterações no train_loader: {num_iterations}\")\n",
        "print(f\"Número de amostras do último batch do train_loader: {last_batch_size}\")"
      ],
      "metadata": {
        "id": "Y7tcZv2YDIog",
        "colab": {
          "base_uri": "https://localhost:8080/"
        },
        "outputId": "2fb16c86-395b-4243-d837-f7526b1060f6"
      },
      "execution_count": null,
      "outputs": [
        {
          "output_type": "stream",
          "name": "stdout",
          "text": [
            "Número de iterações no train_loader: 2\n",
            "Número de amostras do último batch do train_loader: 72\n"
          ]
        }
      ]
    },
    {
      "cell_type": "code",
      "source": [
        "R_list = [\n",
        "    (y.sum().item() / y.size(0))\n",
        "    for X, y in train_loader\n",
        "]\n",
        "\n",
        "# Calcular a média de R\n",
        "R_mean = sum(R_list) / len(R_list)\n",
        "\n",
        "print(f\"Valor médio de R: {R_mean}\")"
      ],
      "metadata": {
        "colab": {
          "base_uri": "https://localhost:8080/"
        },
        "id": "BHM1F9zH39T6",
        "outputId": "7f9606d3-f18f-426b-a295-575b896a829f"
      },
      "execution_count": null,
      "outputs": [
        {
          "output_type": "stream",
          "name": "stdout",
          "text": [
            "Valor médio de R: 0.0\n"
          ]
        }
      ]
    },
    {
      "cell_type": "code",
      "source": [
        "# Selecionar um batch\n",
        "batch = next(iter(train_loader))\n",
        "X_batch, y_batch = batch\n",
        "\n",
        "# Mostrar a estrutura do batch\n",
        "print(f\"Shape da entrada (X): {X_batch.shape}\")\n",
        "print(f\"Tipo de dado da entrada (X): {X_batch.dtype}\")\n",
        "print(f\"Shape do target esperado (y): {y_batch.shape}\")\n",
        "print(f\"Tipo de dado do target esperado (y): {y_batch.dtype}\")"
      ],
      "metadata": {
        "colab": {
          "base_uri": "https://localhost:8080/"
        },
        "id": "pltY0qxw7J61",
        "outputId": "8fe7cf8b-9d31-4082-d50f-6a0dab8106fe"
      },
      "execution_count": null,
      "outputs": [
        {
          "output_type": "stream",
          "name": "stdout",
          "text": [
            "Shape da entrada (X): torch.Size([128, 20001])\n",
            "Tipo de dado da entrada (X): torch.float32\n",
            "Shape do target esperado (y): torch.Size([128])\n",
            "Tipo de dado do target esperado (y): torch.int64\n"
          ]
        }
      ]
    },
    {
      "cell_type": "markdown",
      "source": [
        "## IV - Modelo"
      ],
      "metadata": {
        "id": "MwPeJ7h8DahT"
      }
    },
    {
      "cell_type": "code",
      "source": [
        "class OneHotMLP(nn.Module):\n",
        "    def __init__(self, vocab_size):\n",
        "        super(OneHotMLP, self).__init__()\n",
        "\n",
        "        self.fc1 = nn.Linear(vocab_size+1, 200)\n",
        "        self.fc2 = nn.Linear(200, 1)\n",
        "\n",
        "        self.relu = nn.ReLU()\n",
        "\n",
        "    def forward(self, x):\n",
        "        o = self.fc1(x.float())\n",
        "        o = self.relu(o)\n",
        "        return self.fc2(o)\n",
        "\n",
        "# Model instantiation\n",
        "model = OneHotMLP(vocab_size)"
      ],
      "metadata": {
        "id": "6QuDhWvji7lt"
      },
      "execution_count": null,
      "outputs": []
    },
    {
      "cell_type": "markdown",
      "source": [
        "# Exercícios IV.1"
      ],
      "metadata": {
        "id": "UfL5f_9XuF75"
      }
    },
    {
      "cell_type": "code",
      "source": [
        "# Selecionar um batch\n",
        "batch = next(iter(train_loader))\n",
        "inputs, targets = batch\n",
        "\n",
        "# Fazer a predição usando o modelo\n",
        "logits = model(inputs)\n",
        "\n",
        "# Aplicar a função sigmoidal para converter os logits em probabilidades\n",
        "probabilities = torch.sigmoid(logits)\n",
        "\n",
        "print(f\"Logits: {logits.squeeze()}\")\n",
        "print(f\"Probabilidades: {probabilities.squeeze()}\")"
      ],
      "metadata": {
        "colab": {
          "base_uri": "https://localhost:8080/"
        },
        "id": "4Te0p3CJuOWF",
        "outputId": "bf95c05c-a3d1-4dcb-c3bb-d9c18b9e4840"
      },
      "execution_count": null,
      "outputs": [
        {
          "output_type": "stream",
          "name": "stdout",
          "text": [
            "Logits: tensor([-0.0707, -0.0877, -0.0988, -0.0654, -0.0774, -0.0831, -0.0746, -0.0891,\n",
            "        -0.0670, -0.0787, -0.0693, -0.0901, -0.0609, -0.1098, -0.0502, -0.0765,\n",
            "        -0.0730, -0.0576, -0.0697, -0.0832, -0.0771, -0.0709, -0.0616, -0.0772,\n",
            "        -0.0723, -0.0773, -0.0550, -0.0710, -0.0629, -0.0630, -0.1009, -0.0792,\n",
            "        -0.0885, -0.0835, -0.0714, -0.0579, -0.0780, -0.0829, -0.0774, -0.0548,\n",
            "        -0.0634, -0.0575, -0.0872, -0.0845, -0.0859, -0.0841, -0.0572, -0.0801,\n",
            "        -0.0980, -0.0681, -0.0742, -0.0635, -0.0748, -0.1201, -0.0764, -0.0635,\n",
            "        -0.0816, -0.0772, -0.0959, -0.0757, -0.0775, -0.0634, -0.0818, -0.0401,\n",
            "        -0.0704, -0.0880, -0.0553, -0.0877, -0.0624, -0.0552, -0.0674, -0.0831,\n",
            "        -0.0864, -0.0585, -0.0580, -0.1013, -0.0652, -0.0800, -0.1034, -0.0994,\n",
            "        -0.0626, -0.0631, -0.0856, -0.0695, -0.1122, -0.0554, -0.0566, -0.0551,\n",
            "        -0.0799, -0.0585, -0.0671, -0.0697, -0.0877, -0.0932, -0.0660, -0.0563,\n",
            "        -0.0733, -0.0567, -0.0729, -0.0665, -0.0631, -0.0642, -0.0869, -0.0982,\n",
            "        -0.0801, -0.0572, -0.0738, -0.0849, -0.0716, -0.0685, -0.0795, -0.0725,\n",
            "        -0.0679, -0.0464, -0.0711, -0.0983, -0.0823, -0.0738, -0.0641, -0.0681,\n",
            "        -0.0756, -0.1016, -0.0524, -0.0938, -0.0558, -0.0782, -0.0951, -0.0841],\n",
            "       grad_fn=<SqueezeBackward0>)\n",
            "Probabilidades: tensor([0.4823, 0.4781, 0.4753, 0.4836, 0.4807, 0.4792, 0.4813, 0.4777, 0.4833,\n",
            "        0.4803, 0.4827, 0.4775, 0.4848, 0.4726, 0.4875, 0.4809, 0.4817, 0.4856,\n",
            "        0.4826, 0.4792, 0.4807, 0.4823, 0.4846, 0.4807, 0.4819, 0.4807, 0.4863,\n",
            "        0.4823, 0.4843, 0.4843, 0.4748, 0.4802, 0.4779, 0.4791, 0.4822, 0.4855,\n",
            "        0.4805, 0.4793, 0.4807, 0.4863, 0.4842, 0.4856, 0.4782, 0.4789, 0.4785,\n",
            "        0.4790, 0.4857, 0.4800, 0.4755, 0.4830, 0.4815, 0.4841, 0.4813, 0.4700,\n",
            "        0.4809, 0.4841, 0.4796, 0.4807, 0.4760, 0.4811, 0.4806, 0.4841, 0.4796,\n",
            "        0.4900, 0.4824, 0.4780, 0.4862, 0.4781, 0.4844, 0.4862, 0.4832, 0.4792,\n",
            "        0.4784, 0.4854, 0.4855, 0.4747, 0.4837, 0.4800, 0.4742, 0.4752, 0.4843,\n",
            "        0.4842, 0.4786, 0.4826, 0.4720, 0.4862, 0.4858, 0.4862, 0.4800, 0.4854,\n",
            "        0.4832, 0.4826, 0.4781, 0.4767, 0.4835, 0.4859, 0.4817, 0.4858, 0.4818,\n",
            "        0.4834, 0.4842, 0.4840, 0.4783, 0.4755, 0.4800, 0.4857, 0.4816, 0.4788,\n",
            "        0.4821, 0.4829, 0.4801, 0.4819, 0.4830, 0.4884, 0.4822, 0.4755, 0.4794,\n",
            "        0.4816, 0.4840, 0.4830, 0.4811, 0.4746, 0.4869, 0.4766, 0.4861, 0.4805,\n",
            "        0.4763, 0.4790], grad_fn=<SqueezeBackward0>)\n"
          ]
        }
      ]
    },
    {
      "cell_type": "markdown",
      "source": [
        "## V - Laço de Treinamento - Otimização da função de Perda pelo Gradiente descendente"
      ],
      "metadata": {
        "id": "iVAhdFGXDepU"
      }
    },
    {
      "cell_type": "code",
      "source": [
        "# Verifica se há uma GPU disponível e define o dispositivo para GPU se possível,\n",
        "# caso contrário, usa a CPU\n",
        "device = torch.device('cuda' if torch.cuda.is_available() else 'cpu')\n",
        "if device.type == 'cuda':\n",
        "    print('GPU:', torch.cuda.get_device_name(torch.cuda.current_device()))\n",
        "else:\n",
        "    print('using CPU')"
      ],
      "metadata": {
        "id": "RaH1Uv3yHih5",
        "colab": {
          "base_uri": "https://localhost:8080/"
        },
        "outputId": "21c629f7-d6db-4ad4-ec86-e30f77e256e5"
      },
      "execution_count": null,
      "outputs": [
        {
          "output_type": "stream",
          "name": "stdout",
          "text": [
            "GPU: Tesla T4\n"
          ]
        }
      ]
    },
    {
      "cell_type": "code",
      "source": [
        "import time\n",
        "\n",
        "model = OneHotMLP(vocab_size)\n",
        "model = model.to(device)\n",
        "# Define loss and optimizer\n",
        "criterion = nn.BCEWithLogitsLoss()\n",
        "optimizer = optim.SGD(model.parameters(), lr=0.001)\n",
        "\n",
        "# Training loop\n",
        "num_epochs = 5\n",
        "for epoch in range(num_epochs):\n",
        "    start_time = time.time()  # Start time of the epoch\n",
        "    model.train()\n",
        "    for inputs, targets in train_loader:\n",
        "        inputs = inputs.to(device)\n",
        "        targets = targets.to(device)\n",
        "        # Forward pass\n",
        "        logits = model(inputs)\n",
        "        loss = criterion(logits.squeeze(), targets.float())\n",
        "        # Backward and optimize\n",
        "        optimizer.zero_grad()\n",
        "        loss.backward()\n",
        "        optimizer.step()\n",
        "\n",
        "    end_time = time.time()  # End time of the epoch\n",
        "    epoch_duration = end_time - start_time  # Duration of epoch\n",
        "\n",
        "    print(f'Epoch [{epoch+1}/{num_epochs}], \\\n",
        "            Loss: {loss.item():.4f}, \\\n",
        "            Elapsed Time: {epoch_duration:.2f} sec')"
      ],
      "metadata": {
        "id": "Nh_pe8rni93_",
        "colab": {
          "base_uri": "https://localhost:8080/"
        },
        "outputId": "dbef0351-09b0-4d62-ab4b-eeee2f6e8258"
      },
      "execution_count": null,
      "outputs": [
        {
          "output_type": "stream",
          "name": "stdout",
          "text": [
            "Epoch [1/5],             Loss: 0.6585,             Elapsed Time: 0.37 sec\n",
            "Epoch [2/5],             Loss: 0.6566,             Elapsed Time: 0.37 sec\n",
            "Epoch [3/5],             Loss: 0.6549,             Elapsed Time: 0.37 sec\n",
            "Epoch [4/5],             Loss: 0.6533,             Elapsed Time: 0.26 sec\n",
            "Epoch [5/5],             Loss: 0.6513,             Elapsed Time: 0.27 sec\n"
          ]
        }
      ]
    },
    {
      "cell_type": "code",
      "source": [
        "batch = next(iter(test_loader))\n",
        "inputs, targets = batch\n",
        "inputs, targets = inputs.to(device), targets.to(device)\n",
        "logits = model(inputs)\n",
        "probabilities = torch.sigmoid(logits)\n",
        "predicted = torch.round(probabilities)\n",
        "accuracy = (predicted == targets).float().mean()\n",
        "\n",
        "print(f\"Acurácia do primeiro batch dos dados de teste: {accuracy.item()}\")"
      ],
      "metadata": {
        "id": "c32gsu8ZvkBp",
        "colab": {
          "base_uri": "https://localhost:8080/"
        },
        "outputId": "ad362bc8-c44a-4eb9-ac01-cd45f187f5e8"
      },
      "execution_count": null,
      "outputs": [
        {
          "output_type": "stream",
          "name": "stdout",
          "text": [
            "Acurácia do primeiro batch dos dados de teste: 1.0\n"
          ]
        }
      ]
    },
    {
      "cell_type": "code",
      "source": [
        "total = 0\n",
        "for layer in [model.fc1, model.fc2]:\n",
        "    weight_params = layer.weight.numel()  # número de elementos nos pesos\n",
        "    bias_params = layer.bias.numel()  # número de elementos nos vieses\n",
        "    print(f'Weight parameters: {weight_params}')\n",
        "    print(f'Bias parameters: {bias_params}')\n",
        "    total += weight_params + bias_params\n",
        "\n",
        "print(f'Total number of parameters: {total}')"
      ],
      "metadata": {
        "id": "w4LXV0IqyhrP",
        "colab": {
          "base_uri": "https://localhost:8080/"
        },
        "outputId": "add8dcd3-eab6-4654-b25c-a661ff1d8bb1"
      },
      "execution_count": null,
      "outputs": [
        {
          "output_type": "stream",
          "name": "stdout",
          "text": [
            "Weight parameters: 4000200\n",
            "Bias parameters: 200\n",
            "Weight parameters: 200\n",
            "Bias parameters: 1\n",
            "Total number of parameters: 4000601\n"
          ]
        }
      ]
    },
    {
      "cell_type": "markdown",
      "source": [
        "# Exercícios V.1"
      ],
      "metadata": {
        "id": "K1CovTGz6AqU"
      }
    },
    {
      "cell_type": "code",
      "source": [
        "model = OneHotMLP(vocab_size)\n",
        "\n",
        "# Obter as amostras do primeiro batch\n",
        "inputs, targets = next(iter(train_loader))\n",
        "\n",
        "# Fazer a predição do modelo inicializado\n",
        "logits = model(inputs).squeeze()  # Squeeze para obter a dimensão correta\n",
        "\n",
        "# Calcular a probabilidade usando a função sigmoidal\n",
        "probabilities = torch.sigmoid(logits)\n",
        "\n",
        "# Calcular a Loss utilizando a fórmula da entropia cruzada binária\n",
        "loss = - (targets * torch.log(probabilities) + (1 - targets) * torch.log(1 - probabilities))\n",
        "\n",
        "# Calcular a Loss média\n",
        "mean_loss = loss.mean()\n",
        "\n",
        "print(f'Mean Loss: {mean_loss.item()}')\n",
        "\n",
        "# Instanciar a função de Loss da entropia cruzada binária\n",
        "bce_loss_fn = nn.BCELoss()\n",
        "\n",
        "# Calcular a Loss utilizando a função instanciada pelo BCELoss\n",
        "loss = bce_loss_fn(probabilities, targets.float())\n",
        "\n",
        "print(f'Loss using nn.BCELoss: {loss.item()}')\n",
        "\n",
        "# Instanciar a função de Loss da entropia cruzada binária com logits\n",
        "bce_with_logits_loss_fn = nn.BCEWithLogitsLoss()\n",
        "\n",
        "# Calcular a Loss utilizando a função instanciada pelo BCEWithLogitsLoss\n",
        "loss = bce_with_logits_loss_fn(logits, targets.float())\n",
        "\n",
        "print(f'Loss using nn.BCEWithLogitsLoss: {loss.item()}')"
      ],
      "metadata": {
        "id": "8KLHoCc-6Ttc",
        "colab": {
          "base_uri": "https://localhost:8080/"
        },
        "outputId": "bcb2d11e-60b0-44b3-fede-1dd956bc1e6c"
      },
      "execution_count": null,
      "outputs": [
        {
          "output_type": "stream",
          "name": "stdout",
          "text": [
            "Mean Loss: 0.7037867307662964\n",
            "Loss using nn.BCELoss: 0.7037867307662964\n",
            "Loss using nn.BCEWithLogitsLoss: 0.7037867307662964\n"
          ]
        }
      ]
    },
    {
      "cell_type": "markdown",
      "source": [
        "# Exercício V.2"
      ],
      "metadata": {
        "id": "v58razNwCi6W"
      }
    },
    {
      "cell_type": "code",
      "source": [
        "import time\n",
        "\n",
        "model = OneHotMLP(vocab_size)\n",
        "model = model.to(device)\n",
        "# Define loss and optimizer\n",
        "criterion = nn.BCEWithLogitsLoss()\n",
        "optimizer = optim.SGD(model.parameters(), lr=0.001)\n",
        "\n",
        "total_loss = 0.0\n",
        "model.eval()\n",
        "with torch.no_grad():\n",
        "    for inputs, targets in train_loader:\n",
        "        inputs = inputs.to(device)\n",
        "        targets = targets.to(device)\n",
        "        logits = model(inputs)\n",
        "        loss = criterion(logits.squeeze(), targets.float())\n",
        "        total_loss += loss.item() * inputs.size(0)\n",
        "\n",
        "# Calcula e imprime a Loss inicial\n",
        "initial_loss = total_loss / len(train_loader.dataset)\n",
        "print(f'Initial Loss: {initial_loss:.4f}')\n",
        "\n",
        "# Training loop\n",
        "num_epochs = 5\n",
        "for epoch in range(num_epochs):\n",
        "    start_time = time.time()  # Start time of the epoch\n",
        "    model.train()\n",
        "    total_epoch_loss = 0.0 # Adicionado\n",
        "    for inputs, targets in train_loader:\n",
        "        inputs = inputs.to(device)\n",
        "        targets = targets.to(device)\n",
        "        # Forward pass\n",
        "        logits = model(inputs)\n",
        "        loss = criterion(logits.squeeze(), targets.float())\n",
        "        # Backward and optimize\n",
        "        optimizer.zero_grad()\n",
        "        loss.backward()\n",
        "        optimizer.step()\n",
        "\n",
        "        # Acumula a Loss do batch\n",
        "        total_epoch_loss += loss.item() * inputs.size(0) # Adicionado\n",
        "\n",
        "    # Calcula a Loss média da época\n",
        "    average_epoch_loss = total_epoch_loss / len(train_loader.dataset) # Adicionado\n",
        "    end_time = time.time()  # End time of the epoch\n",
        "    epoch_duration = end_time - start_time  # Duration of epoch\n",
        "\n",
        "    print(f'Epoch [{epoch+1}/{num_epochs}], \\\n",
        "            Loss: {average_epoch_loss:.4f}, \\\n",
        "            Elapsed Time: {epoch_duration:.2f} sec') # Modificado"
      ],
      "metadata": {
        "id": "d4MKvXtYCmtY",
        "colab": {
          "base_uri": "https://localhost:8080/"
        },
        "outputId": "c19f9f6d-b34d-4619-fe85-2290a5b37a4d"
      },
      "execution_count": null,
      "outputs": [
        {
          "output_type": "stream",
          "name": "stdout",
          "text": [
            "Initial Loss: 0.6644\n",
            "Epoch [1/5],             Loss: 0.6641,             Elapsed Time: 0.34 sec\n",
            "Epoch [2/5],             Loss: 0.6625,             Elapsed Time: 0.35 sec\n",
            "Epoch [3/5],             Loss: 0.6608,             Elapsed Time: 0.36 sec\n",
            "Epoch [4/5],             Loss: 0.6592,             Elapsed Time: 0.37 sec\n",
            "Epoch [5/5],             Loss: 0.6575,             Elapsed Time: 0.40 sec\n"
          ]
        }
      ]
    },
    {
      "cell_type": "markdown",
      "source": [
        "## VI - Avaliação"
      ],
      "metadata": {
        "id": "Bwvahen5D1oM"
      }
    },
    {
      "cell_type": "markdown",
      "source": [
        "# Exercício VI.1"
      ],
      "metadata": {
        "id": "ZH5ck3-b07ZG"
      }
    },
    {
      "cell_type": "code",
      "source": [
        "## evaluation\n",
        "model.eval()\n",
        "\n",
        "with torch.no_grad():\n",
        "    correct = 0\n",
        "    correct_simples = 0\n",
        "    total = 0\n",
        "    for inputs, targets in test_loader:\n",
        "        inputs = inputs.to(device)\n",
        "        targets = targets.to(device)\n",
        "        logits = model(inputs)\n",
        "        predicted = torch.round(torch.sigmoid(logits.squeeze()))\n",
        "        predicted_simples = (logits.squeeze() > 0).float()\n",
        "        total += targets.size(0)\n",
        "        correct += (predicted == targets).sum().item()\n",
        "        correct_simples += (predicted == targets).sum().item()\n",
        "\n",
        "    print(f'Total number of test samples: {total}')\n",
        "    print(f'Test Accuracy: {100 * correct / total}%')\n",
        "    print(f'Test Accuracy Simplified: {100 * correct_simples / total}%')"
      ],
      "metadata": {
        "id": "2DtTPUBfjBj-",
        "colab": {
          "base_uri": "https://localhost:8080/"
        },
        "outputId": "f2ea50ab-0827-4440-f088-284c4ce5e60e"
      },
      "execution_count": null,
      "outputs": [
        {
          "output_type": "stream",
          "name": "stdout",
          "text": [
            "Total number of test samples: 200\n",
            "Test Accuracy: 100.0%\n",
            "Test Accuracy Simplified: 100.0%\n"
          ]
        }
      ]
    },
    {
      "cell_type": "markdown",
      "source": [
        "# Exercício VII.1"
      ],
      "metadata": {
        "id": "q3w5ihQMNEj2"
      }
    },
    {
      "cell_type": "code",
      "source": [
        "# Verifica se há uma GPU disponível e define o dispositivo para GPU se possível,\n",
        "# caso contrário, usa a CPU\n",
        "device = torch.device('cuda' if torch.cuda.is_available() else 'cpu')\n",
        "if device.type == 'cuda':\n",
        "    print('GPU:', torch.cuda.get_device_name(torch.cuda.current_device()))\n",
        "else:\n",
        "    print('using CPU')\n",
        "\n",
        "from torch.nn.functional import one_hot\n",
        "# Dataset Class with One-hot Encoding\n",
        "class IMDBDataset(Dataset):\n",
        "    def __init__(self, split, vocab):\n",
        "        self.data = load_dataset(\"stanfordnlp/imdb\", split=split)\n",
        "        #self.data = list(load_dataset(\"stanfordnlp/imdb\", split=split))[:200]\n",
        "        self.vocab = vocab\n",
        "\n",
        "    def __len__(self):\n",
        "        return len(self.data)\n",
        "\n",
        "    def __getitem__(self, idx):\n",
        "        sample = self.data[idx]\n",
        "        target = sample[\"label\"]\n",
        "        line = sample[\"text\"]\n",
        "        target = 1 if target == 1 else 0\n",
        "\n",
        "        # one-hot encoding\n",
        "        X = torch.zeros(len(self.vocab) + 1)\n",
        "        for word in encode_sentence(line, self.vocab):\n",
        "            X[word] = 1\n",
        "\n",
        "        return X, torch.tensor(target)\n",
        "\n",
        "# Load Data with One-hot Encoding\n",
        "train_data = IMDBDataset('train', vocab)\n",
        "test_data = IMDBDataset('test', vocab)\n",
        "\n",
        "batch_size = 128\n",
        "# define dataloaders\n",
        "train_loader = DataLoader(train_data, batch_size=batch_size, shuffle=True)\n",
        "test_loader  = DataLoader(test_data,  batch_size=batch_size, shuffle=False)"
      ],
      "metadata": {
        "colab": {
          "base_uri": "https://localhost:8080/"
        },
        "id": "s8nBMJTxNLNA",
        "outputId": "0ae6b95a-ac89-440f-ddb5-732369b5b59b"
      },
      "execution_count": null,
      "outputs": [
        {
          "output_type": "stream",
          "name": "stdout",
          "text": [
            "GPU: Tesla T4\n"
          ]
        }
      ]
    },
    {
      "cell_type": "code",
      "source": [
        "import time\n",
        "model = OneHotMLP(vocab_size)\n",
        "model = model.to(device)\n",
        "# Define loss and optimizer\n",
        "criterion = nn.BCEWithLogitsLoss()\n",
        "optimizer = optim.SGD(model.parameters(), lr=0.001)\n",
        "\n",
        "# Variáveis para acumular tempos\n",
        "total_time_13 = total_time_14 = total_time_15 = 0\n",
        "total_time_17 = total_time_18 = total_time_20 = 0\n",
        "total_time_21 = total_time_22 = 0\n",
        "i=0\n",
        "start_13 = time.time()\n",
        "for inputs, targets in train_loader:\n",
        "    end_13 = time.time()\n",
        "\n",
        "    # Medição do tempo de cada linha\n",
        "    start_14 = time.time()\n",
        "    inputs = inputs.to(device)  # Linha 14\n",
        "    end_14 = time.time()\n",
        "\n",
        "    start_15 = time.time()\n",
        "    targets = targets.to(device)  # Linha 15\n",
        "    end_15 = time.time()\n",
        "\n",
        "    start_17 = time.time()\n",
        "    logits = model(inputs)  # Linha 17\n",
        "    end_17 = time.time()\n",
        "\n",
        "    start_18 = time.time()\n",
        "    loss = criterion(logits.squeeze(), targets.float())  # Linha 18\n",
        "    end_18 = time.time()\n",
        "\n",
        "    start_20 = time.time()\n",
        "    optimizer.zero_grad()  # Linha 20\n",
        "    end_20 = time.time()\n",
        "\n",
        "    start_21 = time.time()\n",
        "    loss.backward()  # Linha 21\n",
        "    end_21 = time.time()\n",
        "\n",
        "    start_22 = time.time()\n",
        "    optimizer.step()  # Linha 22\n",
        "    end_22 = time.time()\n",
        "\n",
        "    # Acumular tempos\n",
        "    total_time_13 += (end_13 - start_13)\n",
        "    total_time_14 += (end_14 - start_14)\n",
        "    total_time_15 += (end_15 - start_15)\n",
        "    total_time_17 += (end_17 - start_17)\n",
        "    total_time_18 += (end_18 - start_18)\n",
        "    total_time_20 += (end_20 - start_20)\n",
        "    total_time_21 += (end_21 - start_21)\n",
        "    total_time_22 += (end_22 - start_22)\n",
        "\n",
        "    i+=1\n",
        "    if i >= 2:\n",
        "        break  # Para após dois laços\n",
        "    start_13 = time.time()\n",
        "\n",
        "# Exibição das médias\n",
        "print(\"Média dos tempos (2 laços):\")\n",
        "print(f\"Linha 13: {total_time_13 / 2* 1000:.6f} ms\")\n",
        "print(f\"Linha 14: {total_time_14 / 2* 1000:.6f} ms\")\n",
        "print(f\"Linha 15: {total_time_15 / 2* 1000:.6f} ms\")\n",
        "print(f\"Linha 17: {total_time_17 / 2* 1000:.6f} ms\")\n",
        "print(f\"Linha 18: {total_time_18 / 2* 1000:.6f} ms\")\n",
        "print(f\"Linha 20: {total_time_20 / 2* 1000:.6f} ms\")\n",
        "print(f\"Linha 21: {total_time_21 / 2* 1000:.6f} ms\")\n",
        "print(f\"Linha 22: {total_time_22 / 2* 1000:.6f} ms\")"
      ],
      "metadata": {
        "colab": {
          "base_uri": "https://localhost:8080/"
        },
        "id": "JTItfoK-Nwzm",
        "outputId": "331189cf-ec4c-4668-bb5e-ebb75344e767"
      },
      "execution_count": null,
      "outputs": [
        {
          "output_type": "stream",
          "name": "stdout",
          "text": [
            "Média dos tempos (2 laços):\n",
            "Linha 13: 167.943001 ms\n",
            "Linha 14: 2.244949 ms\n",
            "Linha 15: 0.051379 ms\n",
            "Linha 17: 0.375628 ms\n",
            "Linha 18: 0.254273 ms\n",
            "Linha 20: 0.288367 ms\n",
            "Linha 21: 0.712991 ms\n",
            "Linha 22: 0.302196 ms\n"
          ]
        }
      ]
    },
    {
      "cell_type": "markdown",
      "source": [
        "# Sem pre-load"
      ],
      "metadata": {
        "id": "CuvGOls-x8su"
      }
    },
    {
      "cell_type": "code",
      "source": [
        "model = OneHotMLP(vocab_size)\n",
        "model = model.to(device)\n",
        "\n",
        "# Training loop\n",
        "num_epochs = 5\n",
        "for epoch in range(num_epochs):\n",
        "    start_time = time.time()  # Start time of the epoch\n",
        "    model.train()\n",
        "    total_epoch_loss = 0.0 # Adicionado\n",
        "    for inputs, targets in train_loader:\n",
        "        inputs = inputs.to(device)\n",
        "        targets = targets.to(device)\n",
        "        # Forward pass\n",
        "        logits = model(inputs)\n",
        "        loss = criterion(logits.squeeze(), targets.float())\n",
        "        # Backward and optimize\n",
        "        optimizer.zero_grad()\n",
        "        loss.backward()\n",
        "        optimizer.step()\n",
        "\n",
        "        # Acumula a Loss do batch\n",
        "        total_epoch_loss += loss.item() * inputs.size(0) # Adicionado\n",
        "\n",
        "    # Calcula a Loss média da época\n",
        "    average_epoch_loss = total_epoch_loss / len(train_loader.dataset) # Adicionado\n",
        "    end_time = time.time()  # End time of the epoch\n",
        "    epoch_duration = end_time - start_time  # Duration of epoch\n",
        "\n",
        "    print(f'Epoch [{epoch+1}/{num_epochs}], \\\n",
        "            Loss: {average_epoch_loss:.4f}, \\\n",
        "            Elapsed Time: {epoch_duration:.2f} sec') # Modificado"
      ],
      "metadata": {
        "colab": {
          "base_uri": "https://localhost:8080/"
        },
        "id": "0AcZeligx7Lq",
        "outputId": "1b754b65-e926-46a2-a82c-7323e0866aee"
      },
      "execution_count": null,
      "outputs": [
        {
          "output_type": "stream",
          "name": "stdout",
          "text": [
            "Epoch [1/5],             Loss: 0.6930,             Elapsed Time: 36.00 sec\n",
            "Epoch [2/5],             Loss: 0.6930,             Elapsed Time: 41.25 sec\n",
            "Epoch [3/5],             Loss: 0.6930,             Elapsed Time: 41.64 sec\n",
            "Epoch [4/5],             Loss: 0.6930,             Elapsed Time: 35.35 sec\n",
            "Epoch [5/5],             Loss: 0.6930,             Elapsed Time: 35.92 sec\n"
          ]
        }
      ]
    },
    {
      "cell_type": "code",
      "source": [
        "model = OneHotMLP(vocab_size)\n",
        "model = model.to(device)\n",
        "\n",
        "# Dataset Class with One-hot Encoding\n",
        "class IMDBDataset(Dataset):\n",
        "    def __init__(self, split, vocab):\n",
        "        self.data = load_dataset(\"stanfordnlp/imdb\", split=split)\n",
        "        self.vocab = vocab\n",
        "        # Pré-processar os dados para one-hot encoding\n",
        "        self.encoded_data = []\n",
        "        for sample in self.data:\n",
        "            target = sample[\"label\"]\n",
        "            line = sample[\"text\"]\n",
        "            target = 1 if target == 1 else 0\n",
        "            # one-hot encoding\n",
        "            X = torch.zeros(len(self.vocab) + 1)\n",
        "            for word in encode_sentence(line, self.vocab):\n",
        "                X[word] = 1\n",
        "            self.encoded_data.append((X, torch.tensor(target)))\n",
        "\n",
        "    def __len__(self):\n",
        "        return len(self.encoded_data)\n",
        "\n",
        "    def __getitem__(self, idx):\n",
        "        return self.encoded_data[idx]\n",
        "\n",
        "# Load Data with One-hot Encoding\n",
        "train_data = IMDBDataset('train', vocab)\n",
        "test_data = IMDBDataset('test', vocab)\n",
        "\n",
        "batch_size = 128\n",
        "# define dataloaders\n",
        "train_loader = DataLoader(train_data, batch_size=batch_size, shuffle=True)\n",
        "test_loader  = DataLoader(test_data,  batch_size=batch_size, shuffle=False)"
      ],
      "metadata": {
        "id": "e9v96Fuctsut"
      },
      "execution_count": null,
      "outputs": []
    },
    {
      "cell_type": "code",
      "source": [
        "# Variáveis para acumular tempos\n",
        "total_time_13 = total_time_14 = total_time_15 = 0\n",
        "total_time_17 = total_time_18 = total_time_20 = 0\n",
        "total_time_21 = total_time_22 = 0\n",
        "i=0\n",
        "start_13 = time.time()\n",
        "for inputs, targets in train_loader:\n",
        "    end_13 = time.time()\n",
        "\n",
        "    # Medição do tempo de cada linha\n",
        "    start_14 = time.time()\n",
        "    inputs = inputs.to(device)  # Linha 14\n",
        "    end_14 = time.time()\n",
        "\n",
        "    start_15 = time.time()\n",
        "    targets = targets.to(device)  # Linha 15\n",
        "    end_15 = time.time()\n",
        "\n",
        "    start_17 = time.time()\n",
        "    logits = model(inputs)  # Linha 17\n",
        "    end_17 = time.time()\n",
        "\n",
        "    start_18 = time.time()\n",
        "    loss = criterion(logits.squeeze(), targets.float())  # Linha 18\n",
        "    end_18 = time.time()\n",
        "\n",
        "    start_20 = time.time()\n",
        "    optimizer.zero_grad()  # Linha 20\n",
        "    end_20 = time.time()\n",
        "\n",
        "    start_21 = time.time()\n",
        "    loss.backward()  # Linha 21\n",
        "    end_21 = time.time()\n",
        "\n",
        "    start_22 = time.time()\n",
        "    optimizer.step()  # Linha 22\n",
        "    end_22 = time.time()\n",
        "\n",
        "    # Acumular tempos\n",
        "    total_time_13 += (end_13 - start_13)\n",
        "    total_time_14 += (end_14 - start_14)\n",
        "    total_time_15 += (end_15 - start_15)\n",
        "    total_time_17 += (end_17 - start_17)\n",
        "    total_time_18 += (end_18 - start_18)\n",
        "    total_time_20 += (end_20 - start_20)\n",
        "    total_time_21 += (end_21 - start_21)\n",
        "    total_time_22 += (end_22 - start_22)\n",
        "\n",
        "    i+=1\n",
        "    if i >= 2:\n",
        "        break  # Para após dois laços\n",
        "    start_13 = time.time()\n",
        "\n",
        "# Exibição das médias\n",
        "print(\"Média dos tempos (2 laços):\")\n",
        "print(f\"Linha 13: {total_time_13 / 2* 1000:.6f} ms\")\n",
        "print(f\"Linha 14: {total_time_14 / 2* 1000:.6f} ms\")\n",
        "print(f\"Linha 15: {total_time_15 / 2* 1000:.6f} ms\")\n",
        "print(f\"Linha 17: {total_time_17 / 2* 1000:.6f} ms\")\n",
        "print(f\"Linha 18: {total_time_18 / 2* 1000:.6f} ms\")\n",
        "print(f\"Linha 20: {total_time_20 / 2* 1000:.6f} ms\")\n",
        "print(f\"Linha 21: {total_time_21 / 2* 1000:.6f} ms\")\n",
        "print(f\"Linha 22: {total_time_22 / 2* 1000:.6f} ms\")"
      ],
      "metadata": {
        "colab": {
          "base_uri": "https://localhost:8080/"
        },
        "id": "mIJXjTuIucy3",
        "outputId": "e81cfbfb-bc82-4cfe-9787-7fcd6ea71741"
      },
      "execution_count": null,
      "outputs": [
        {
          "output_type": "stream",
          "name": "stdout",
          "text": [
            "Média dos tempos (2 laços):\n",
            "Linha 13: 6.683826 ms\n",
            "Linha 14: 2.394795 ms\n",
            "Linha 15: 0.061035 ms\n",
            "Linha 17: 0.395179 ms\n",
            "Linha 18: 0.223875 ms\n",
            "Linha 20: 0.277281 ms\n",
            "Linha 21: 2.129793 ms\n",
            "Linha 22: 0.157356 ms\n"
          ]
        }
      ]
    },
    {
      "cell_type": "markdown",
      "source": [
        "# Com pre-load"
      ],
      "metadata": {
        "id": "-iKlVQUNyRyz"
      }
    },
    {
      "cell_type": "code",
      "source": [
        "model = OneHotMLP(vocab_size)\n",
        "model = model.to(device)\n",
        "\n",
        "# Training loop\n",
        "num_epochs = 5\n",
        "for epoch in range(num_epochs):\n",
        "    start_time = time.time()  # Start time of the epoch\n",
        "    model.train()\n",
        "    total_epoch_loss = 0.0 # Adicionado\n",
        "    for inputs, targets in train_loader:\n",
        "        inputs = inputs.to(device)\n",
        "        targets = targets.to(device)\n",
        "        # Forward pass\n",
        "        logits = model(inputs)\n",
        "        loss = criterion(logits.squeeze(), targets.float())\n",
        "        # Backward and optimize\n",
        "        optimizer.zero_grad()\n",
        "        loss.backward()\n",
        "        optimizer.step()\n",
        "\n",
        "        # Acumula a Loss do batch\n",
        "        total_epoch_loss += loss.item() * inputs.size(0) # Adicionado\n",
        "\n",
        "    # Calcula a Loss média da época\n",
        "    average_epoch_loss = total_epoch_loss / len(train_loader.dataset) # Adicionado\n",
        "    end_time = time.time()  # End time of the epoch\n",
        "    epoch_duration = end_time - start_time  # Duration of epoch\n",
        "\n",
        "    print(f'Epoch [{epoch+1}/{num_epochs}], \\\n",
        "            Loss: {average_epoch_loss:.4f}, \\\n",
        "            Elapsed Time: {epoch_duration:.2f} sec') # Modificado"
      ],
      "metadata": {
        "colab": {
          "base_uri": "https://localhost:8080/"
        },
        "id": "0wgBkT3NyUem",
        "outputId": "25639fc6-7777-4a9b-f4e6-7f402cd254fb"
      },
      "execution_count": null,
      "outputs": [
        {
          "output_type": "stream",
          "name": "stdout",
          "text": [
            "Epoch [1/5],             Loss: 0.6935,             Elapsed Time: 1.45 sec\n",
            "Epoch [2/5],             Loss: 0.6935,             Elapsed Time: 1.37 sec\n",
            "Epoch [3/5],             Loss: 0.6935,             Elapsed Time: 1.33 sec\n",
            "Epoch [4/5],             Loss: 0.6935,             Elapsed Time: 1.37 sec\n",
            "Epoch [5/5],             Loss: 0.6935,             Elapsed Time: 1.42 sec\n"
          ]
        }
      ]
    },
    {
      "cell_type": "markdown",
      "source": [
        "# Exercício VII.2"
      ],
      "metadata": {
        "id": "GUIGNvdOzV6A"
      }
    },
    {
      "cell_type": "code",
      "source": [
        "import matplotlib.pyplot as plt\n",
        "\n",
        "# Valores de LR para testar\n",
        "learning_rates = [1e-5, 1e-4, 1e-3, 1e-2, 1e-1, 1]\n",
        "accuracies = []\n",
        "\n",
        "# Função para treinar e avaliar o modelo\n",
        "def train_and_evaluate(lr):\n",
        "    model = OneHotMLP(vocab_size)\n",
        "    model = model.to(device)\n",
        "    optimizer = torch.optim.SGD(model.parameters(), lr=lr)\n",
        "    for epoch in range(5):  # 5 épocas\n",
        "        model.train()\n",
        "        for inputs, targets in train_loader:\n",
        "            inputs, targets = inputs.to(device), targets.to(device)\n",
        "            logits = model(inputs)\n",
        "            loss = criterion(logits.squeeze(), targets.float())\n",
        "            optimizer.zero_grad()\n",
        "            loss.backward()\n",
        "            optimizer.step()\n",
        "\n",
        "    # Avaliação\n",
        "    model.eval()\n",
        "    correct = 0\n",
        "    total = 0\n",
        "    with torch.no_grad():\n",
        "        for inputs, targets in test_loader:\n",
        "            inputs, targets = inputs.to(device), targets.to(device)\n",
        "            logits = model(inputs)\n",
        "            predicted = torch.round(torch.sigmoid(logits.squeeze()))\n",
        "            total += targets.size(0)\n",
        "            correct += (predicted == targets).sum().item()\n",
        "\n",
        "    accuracy = 100 * correct / total\n",
        "    return accuracy\n",
        "\n",
        "# Teste cada valor de LR\n",
        "for lr in learning_rates:\n",
        "    acc = train_and_evaluate(lr)\n",
        "    accuracies.append(acc)\n",
        "    print(f'LR: {lr}, Acurácia: {acc}%')\n",
        "\n",
        "# Plotar resultados\n",
        "plt.plot(learning_rates, accuracies, marker='o')\n",
        "plt.xscale('log')  # Usar escala logarítmica para LR\n",
        "plt.xlabel('Taxa de Aprendizado (LR)')\n",
        "plt.ylabel('Acurácia (%)')\n",
        "plt.title('Acurácia vs Taxa de Aprendizado')\n",
        "plt.show()\n",
        "\n",
        "# Escolher o melhor LR\n",
        "best_lr = learning_rates[accuracies.index(max(accuracies))]\n",
        "print(f'O melhor LR é {best_lr} com acurácia de {max(accuracies)}%')"
      ],
      "metadata": {
        "colab": {
          "base_uri": "https://localhost:8080/",
          "height": 598
        },
        "id": "Yii6rTWDyZsg",
        "outputId": "0d8e8d15-813c-4a0f-a921-c24d52dd0867"
      },
      "execution_count": null,
      "outputs": [
        {
          "output_type": "stream",
          "name": "stdout",
          "text": [
            "LR: 1e-05, Acurácia: 49.972%\n",
            "LR: 0.0001, Acurácia: 52.492%\n",
            "LR: 0.001, Acurácia: 63.228%\n",
            "LR: 0.01, Acurácia: 79.048%\n",
            "LR: 0.1, Acurácia: 86.568%\n",
            "LR: 1, Acurácia: 67.844%\n"
          ]
        },
        {
          "output_type": "display_data",
          "data": {
            "text/plain": [
              "<Figure size 640x480 with 1 Axes>"
            ],
            "image/png": "[encoded data removed]"
          },
          "metadata": {}
        },
        {
          "output_type": "stream",
          "name": "stdout",
          "text": [
            "O melhor LR é 0.1 com acurácia de 86.568%\n"
          ]
        }
      ]
    },
    {
      "cell_type": "markdown",
      "source": [
        "# Exercício VII.3"
      ],
      "metadata": {
        "id": "aG0FxZC78pkO"
      }
    },
    {
      "cell_type": "code",
      "source": [
        "print(encode_sentence(\"Hello, world! This is a test sentence with punctuation and CAPITALS.\", vocab))\n",
        "print(encode_sentence(\"Hello world This is a test sentence with punctuation and capitals\", vocab))"
      ],
      "metadata": {
        "colab": {
          "base_uri": "https://localhost:8080/"
        },
        "id": "AxyipnUS395n",
        "outputId": "8303bb54-0f5d-4035-b2d5-a7fd96012a07"
      },
      "execution_count": null,
      "outputs": [
        {
          "output_type": "stream",
          "name": "stdout",
          "text": [
            "[0, 0, 48, 6, 2, 2662, 7229, 15, 0, 3, 0]\n",
            "[13918, 281, 48, 6, 2, 2662, 7229, 15, 0, 3, 0]\n"
          ]
        }
      ]
    },
    {
      "cell_type": "code",
      "source": [
        "import string\n",
        "def preprocess_text(text):\n",
        "    # Converter para minúsculas\n",
        "    text = text.lower()\n",
        "    # Remover pontuações\n",
        "    text = text.translate(str.maketrans('', '', string.punctuation))\n",
        "    return text\n",
        "\n",
        "train_dataset = load_dataset(\"stanfordnlp/imdb\", split=\"train\")\n",
        "\n",
        "def encode_sentence(sentence, vocab):\n",
        "    sentence = preprocess_text(sentence) # Modificação\n",
        "    return [vocab.get(word, 0) for word in sentence.split()] # 0 for OOV\n",
        "\n",
        "encode_sentence(\"I like Pizza.\", vocab)\n",
        "\n",
        "vocab_size = 20000\n",
        "\n",
        "counter = Counter()\n",
        "for sample in train_dataset: #\n",
        "    preprocessed_text = preprocess_text(sample[\"text\"])  # Pré-processar o texto\n",
        "    counter.update(preprocessed_text.split())  # Atualizar o contador com tokens\n",
        "\n",
        "# create a vocabulary of the 20000 most frequent tokens\n",
        "most_frequent_words = sorted(counter, key=counter.get, reverse=True)[:vocab_size]\n",
        "vocab = {word: i for i, word in enumerate(most_frequent_words, 1)}\n",
        "vocab_size = len(vocab)"
      ],
      "metadata": {
        "id": "b74J7Vwv9l2F"
      },
      "execution_count": null,
      "outputs": []
    },
    {
      "cell_type": "code",
      "source": [
        "class IMDBDataset(Dataset):\n",
        "    def __init__(self, split, vocab):\n",
        "        self.data = load_dataset(\"stanfordnlp/imdb\", split=split)\n",
        "        self.vocab = vocab\n",
        "        # Pré-processar os dados para one-hot encoding\n",
        "        self.encoded_data = []\n",
        "        for sample in self.data:\n",
        "            target = sample[\"label\"]\n",
        "            line = sample[\"text\"]\n",
        "            target = 1 if target == 1 else 0\n",
        "            # one-hot encoding\n",
        "            X = torch.zeros(len(self.vocab) + 1)\n",
        "            for word in encode_sentence(line, self.vocab):\n",
        "                X[word] = 1\n",
        "            self.encoded_data.append((X, torch.tensor(target)))\n",
        "\n",
        "    def __len__(self):\n",
        "        return len(self.encoded_data)\n",
        "\n",
        "    def __getitem__(self, idx):\n",
        "        return self.encoded_data[idx]"
      ],
      "metadata": {
        "id": "91yaTGD9E9XX"
      },
      "execution_count": null,
      "outputs": []
    },
    {
      "cell_type": "code",
      "source": [
        "num_unknown_tokens = 0\n",
        "for sample in train_dataset:\n",
        "    encoded_sentence = encode_sentence(preprocess_text(sample[\"text\"]), vocab)\n",
        "    num_unknown_tokens += encoded_sentence.count(0)\n",
        "\n",
        "print(f\"Número de tokens desconhecidos no conjunto de treinamento: {num_unknown_tokens}\")"
      ],
      "metadata": {
        "colab": {
          "base_uri": "https://localhost:8080/"
        },
        "id": "SeB46KZQGwXh",
        "outputId": "e1229635-4ed9-42dd-f5fb-92517f85e193"
      },
      "execution_count": null,
      "outputs": [
        {
          "output_type": "stream",
          "name": "stdout",
          "text": [
            "Número de tokens desconhecidos no conjunto de treinamento: 214473\n"
          ]
        }
      ]
    },
    {
      "cell_type": "code",
      "source": [
        "model = OneHotMLP(vocab_size)\n",
        "model = model.to(device)\n",
        "optimizer = torch.optim.SGD(model.parameters(), lr=0.1)\n",
        "for epoch in range(5):  # 5 épocas\n",
        "    model.train()\n",
        "    for inputs, targets in train_loader:\n",
        "        inputs, targets = inputs.to(device), targets.to(device)\n",
        "        logits = model(inputs)\n",
        "        loss = criterion(logits.squeeze(), targets.float())\n",
        "        optimizer.zero_grad()\n",
        "        loss.backward()\n",
        "        optimizer.step()\n",
        "\n",
        "# Avaliação\n",
        "model.eval()\n",
        "correct = 0\n",
        "total = 0\n",
        "with torch.no_grad():\n",
        "    for inputs, targets in test_loader:\n",
        "        inputs, targets = inputs.to(device), targets.to(device)\n",
        "        logits = model(inputs)\n",
        "        predicted = torch.round(torch.sigmoid(logits.squeeze()))\n",
        "        total += targets.size(0)\n",
        "        correct += (predicted == targets).sum().item()\n",
        "\n",
        "accuracy = 100 * correct / total\n",
        "print(f\"Acurácia nova: {accuracy}%\")"
      ],
      "metadata": {
        "colab": {
          "base_uri": "https://localhost:8080/"
        },
        "id": "JTG0MFbZGwzc",
        "outputId": "8b67ac0d-1728-41c3-9be6-294647be400c"
      },
      "execution_count": null,
      "outputs": [
        {
          "output_type": "stream",
          "name": "stdout",
          "text": [
            "Acurácia nova: 87.4%\n"
          ]
        }
      ]
    }
  ]
}